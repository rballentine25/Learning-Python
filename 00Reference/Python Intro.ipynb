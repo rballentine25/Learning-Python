{
 "cells": [
  {
   "cell_type": "markdown",
   "metadata": {},
   "source": [
    "# Fundamentals"
   ]
  },
  {
   "cell_type": "code",
   "execution_count": 37,
   "metadata": {},
   "outputs": [
    {
     "name": "stdout",
     "output_type": "stream",
     "text": [
      "HELLO\n",
      "Object: 1\t\tClass: int\n",
      "Object: 1.3\t\tClass: float\n",
      "Object: hi\t\tClass: str\n",
      "Object: True\t\tClass: bool\n",
      "Object: [1, 2, 3]\t\tClass: list\n",
      "Object: (3+4j)\t\tClass: complex\n",
      "\n",
      "You can use single or double quotes for strings.  If you use double, you can have ' in the string\n",
      "If you use single, you can have \" in the string\n",
      "\n",
      "i = 0.6666666666666666\n",
      "The value of i is 0.6666666666666666\n",
      "The value of i is 007 and j is 00.67\n",
      "Hello world!\n"
     ]
    }
   ],
   "source": [
    "# Types of objects\n",
    "print(\"hello\".upper())\n",
    "objects = [1, 1.3, \"hi\", True, [1, 2, 3], 3+4j]\n",
    "for object in objects:\n",
    "    print(f\"Object: {object}\\t\\tClass: {object.__class__.__name__}\")\n",
    "    \n",
    "# String literals\n",
    "print(\"\\nYou can use single or double quotes for strings.  If you use double, you can have ' in the string\")\n",
    "print('If you use single, you can have \" in the string\\n')\n",
    "\n",
    "# String interpolation\n",
    "# Direct conversion\n",
    "i = 2/3\n",
    "print(\"i = \" + str(i))  # Converts i to a string.  (Wouldn't i.str() be nicer?)\n",
    "\n",
    "# f strings: look for {}\n",
    "print(f\"The value of i is {i}\")\n",
    "\n",
    "# more control: string.format\n",
    "# can use named parameters, numbered, or just in order...\n",
    "i = 7\n",
    "j = 2/3\n",
    "print(\"The value of i is {:03d} and j is {:05.2f}\".format(i,j))  # leading 0 for 0-padding\n",
    "\n",
    "# See https://www.w3schools.com/python/ref_string_format.asp\n",
    "\n",
    "# LOTS of string methods\n",
    "a = \"Hello world.\"\n",
    "a = a.replace('.', '!')  # Not destructive!\n",
    "print(a)\n",
    "\n"
   ]
  },
  {
   "cell_type": "code",
   "execution_count": 38,
   "metadata": {},
   "outputs": [
    {
     "name": "stdout",
     "output_type": "stream",
     "text": [
      "i is medium\n",
      "0\n",
      "1\n",
      "2\n",
      "3\n",
      "4\n",
      "5\n",
      "6\n",
      "7\n",
      "8\n",
      "9\n",
      "Strings are iterable:\n",
      "h\n",
      "e\n",
      "l\n",
      "l\n",
      "o\n",
      "\n",
      "Lists are iterable:\n",
      "1\n",
      "2\n",
      "hi\n",
      "(3+7j)\n",
      "True\n",
      "\n"
     ]
    }
   ],
   "source": [
    "# Booleans and flow control\n",
    "i = 15\n",
    "if (i < 10):\n",
    "    print(\"i is small\")\n",
    "elif (i < 100):\n",
    "    print (\"i is medium\")\n",
    "else:\n",
    "    print (\"i is large\")\n",
    "    \n",
    "# For loops and iterables\n",
    "# Ranges are iterable\n",
    "for i in range(10):\n",
    "    print(i)\n",
    "    \n",
    "# More iterables:\n",
    "print ('Strings are iterable:')\n",
    "for letter in 'hello':\n",
    "    print(letter)\n",
    "print()\n",
    "\n",
    "print('Lists are iterable:')\n",
    "r = [1, 2, \"hi\", 3+7j, True]\n",
    "for item in r:\n",
    "    print(item)\n",
    "print()\n"
   ]
  },
  {
   "cell_type": "markdown",
   "metadata": {},
   "source": [
    "# Lists, Tuples, and Dictionaries"
   ]
  },
  {
   "cell_type": "code",
   "execution_count": 39,
   "metadata": {},
   "outputs": [
    {
     "name": "stdout",
     "output_type": "stream",
     "text": [
      "5\n",
      "5\n",
      "[1, 2, 3, 4, 5, 6, 7, 8, 9]\n",
      "[1, 2, 3, 300, 5, 6, 7, 8, 9]\n",
      "[1, 2, 3, 300, 5, 6, 7, 8, 9]\n",
      "<list_reverseiterator object at 0x000001B299AED3F0>\n",
      "[9, 8, 7, 6, 5, 300, 3, 2, 1]\n",
      "[1, 2, 3, 5, 6, 7, 8, 9, 300]\n",
      "[1, 2, 3, 5, 6, 7, 8, 9, 300]\n",
      "[3, 5]\n",
      "[3, 5, 6, 7, 8, 9, 300]\n",
      "[1, 2, 3, 5]\n",
      "[300, 9, 8, 7, 6, 5, 3, 2, 1]\n",
      "['S', 'o', 'm', 'e', ' ', 'C', 'a', 'p', 'i', 't', 'a', 'l', 'i', 'z', 'e', 'd', ' ', 'W', 'o', 'r', 'd', 's']\n",
      "['S', 'O', 'M', 'E', ' ', 'C', 'A', 'P', 'I', 'T', 'A', 'L', 'I', 'Z', 'E', 'D', ' ', 'W', 'O', 'R', 'D', 'S']\n",
      "['S', 'C', 'W']\n",
      "[0, 10, 20, 30, 40, 50, 60, 70, 80, 90]\n",
      "['Even', 'Odd', 'Even', 'Odd', 'Even', 'Odd', 'Even', 'Odd', 'Even', 'Odd']\n",
      "<class 'tuple'>\n",
      "2\n",
      "<reversed object at 0x000001B299ADA110>\n",
      "3\n",
      "2\n",
      "1\n",
      "Mike Raymer\n",
      "What?\n",
      "{2: 4, 4: 16, 6: 36}\n",
      "{'this': 1, 'is': 1, 'a': 1, 'long': 1, 'string': 1, 'with': 1, 'many': 1, 'words': 3, 'some': 4, 'of': 4, 'the': 2, 'are': 2, 'repeated': 2, 'not': 2, 'them': 2, 'have': 1, 'punctuation': 1, 'do': 1}\n",
      "{1, 2, 3, 5, 9, 10}\n",
      "{1, 2, 3, 5}\n"
     ]
    }
   ],
   "source": [
    "# Lists\n",
    "a = [1, 2, 3, 4, 5]\n",
    "\n",
    "print(len(a))\n",
    "print(a.__len__())\n",
    "\n",
    "\n",
    "# a[10] = 11  # ERROR\n",
    "\n",
    "# But we can grow lists\n",
    "a.append(6)\n",
    "a.extend([7, 8, 9])\n",
    "print(a)\n",
    "\n",
    "# Variables are pointers\n",
    "b = a\n",
    "b[3] = 300\n",
    "print(a)\n",
    "b = a.copy()\n",
    "b[4] = 400\n",
    "print(a)\n",
    "\n",
    "\n",
    "# Reverse iterator -- we'll see more about this later!\n",
    "# Very different than Ruby, more like Java/C++\n",
    "r = reversed(a)\n",
    "print(r)\n",
    "\n",
    "\n",
    "# Destructive method\n",
    "a.reverse()\n",
    "\n",
    "print(a)\n",
    "\n",
    "# Re-sort (destructive)\n",
    "a.sort()\n",
    "print(a)\n",
    "\n",
    "b = sorted(a)\n",
    "print(b)\n",
    "\n",
    "# Slices\n",
    "print(a[2:4])\n",
    "print(a[2:])\n",
    "print(a[:4])\n",
    "print(a[::-1])\n",
    "\n",
    "# LIST COMPREHENSIONS\n",
    "# What I'd like to do:\n",
    "letters = []\n",
    "for l in 'Some Capitalized Words':\n",
    "    letters.append(l)\n",
    "print(letters)\n",
    "\n",
    "# SYNTAX:  [expression for item in list]\n",
    "# Returns a new list\n",
    "letters = [l for l in 'Some Capitalized Words']\n",
    "\n",
    "letters = [l.upper() for l in 'Some Capitalized Words']\n",
    "print(letters)\n",
    "\n",
    "## Adding a condition\n",
    "letters = [l for l in 'Some Capitalized Words' if l.isupper()]\n",
    "print(letters)\n",
    "\n",
    "# Multiple conditions\n",
    "num_list = [y for y in range(100) if y % 2 == 0 if y % 5 == 0]\n",
    "print(num_list)\n",
    "\n",
    "# Conditions in the expression\n",
    "obj = [\"Even\" if i%2==0 else \"Odd\" for i in range(10)]\n",
    "print(obj)\n",
    "\n",
    "\n",
    "# Tuples\n",
    "t = (1, 2, 3)\n",
    "print(type(t))\n",
    "print(t[1])\n",
    "# t[1] = 5  # ERROR\n",
    "print(reversed(t))\n",
    "for i in reversed(t):\n",
    "    print(i)\n",
    "    \n",
    "# Dictionaries\n",
    "names = {123 : \"Mike Raymer\",\n",
    "        234 : \"John Doe\",\n",
    "        345 : \"Jane Doe\",\n",
    "        456 : \"Alexander Hamilton\"}\n",
    "\n",
    "print(names[123])\n",
    "# print(names[3]) # Keyerror\n",
    "\n",
    "# Keys can be anything that is not mutable\n",
    "names[(1, 2, 3)] = \"What?\"\n",
    "\n",
    "print(names[(1, 2, 3)])\n",
    "\n",
    "# Dictionary comprehensions!\n",
    "# =============> HERE\n",
    "squares = {x: x**2 for x in (2, 4, 6)}\n",
    "print(squares)\n",
    "\n",
    "# Some dictionary methods\n",
    "counts = {}\n",
    "stuff = \"\"\"This is a long string with many words.  Some of the words are repeated.  Some of the words are not\n",
    "          repeated.  Some of them have punctuation, some of them do not.\"\"\"\n",
    "\n",
    "# Remove punctuation\n",
    "import re\n",
    "stuff = re.sub(r'[^\\w\\s]', '', stuff)\n",
    "\n",
    "# Convert to lower case\n",
    "stuff = stuff.lower()\n",
    "\n",
    "# Count 'em\n",
    "for word in stuff.split():\n",
    "    currentCount = counts.get(word, 0)\n",
    "    counts[word] = currentCount + 1\n",
    "    \n",
    "print(counts)\n",
    "\n",
    "\n",
    "# OH, and sets\n",
    "s1 = set([1, 2, 3, 4, 5, 6, 7, 8])\n",
    "s2 = set([1, 3, 3, 5, 2, 3, 9, 10])\n",
    "print(s2)\n",
    "print(s2.intersection(s1))\n",
    "\n"
   ]
  },
  {
   "cell_type": "markdown",
   "metadata": {},
   "source": [
    "# File I/O"
   ]
  },
  {
   "cell_type": "code",
   "execution_count": 40,
   "metadata": {},
   "outputs": [
    {
     "name": "stdout",
     "output_type": "stream",
     "text": [
      "Word: [Line]  =>  Count: 4\n",
      "Word: [one]  =>  Count: 1\n",
      "Word: [two]  =>  Count: 1\n",
      "Word: [three]  =>  Count: 1\n",
      "Word: [four]  =>  Count: 1\n",
      "Word: [Done]  =>  Count: 1\n"
     ]
    }
   ],
   "source": [
    "textfile = 'TM1.txt'\n",
    "wordcounts = dict()\n",
    "with open(textfile) as infile:\n",
    "    for line in infile:\n",
    "        for word in line.split():\n",
    "            wordcounts[word] = wordcounts.setdefault(word, 0) + 1\n",
    "\n",
    "for word in wordcounts.keys():\n",
    "    print(f'Word: [{word}]  =>  Count: {wordcounts[word]}')"
   ]
  },
  {
   "cell_type": "markdown",
   "metadata": {},
   "source": [
    "# Functions"
   ]
  },
  {
   "cell_type": "code",
   "execution_count": 41,
   "metadata": {},
   "outputs": [
    {
     "name": "stdout",
     "output_type": "stream",
     "text": [
      "HELLO WORLD\n",
      "HEY! HELLO WORLD\n",
      "HEY! HELLO!!!\n",
      "HEY YOU: HELLO!!\n",
      "HEY! HELLO?!?!\n"
     ]
    }
   ],
   "source": [
    "# Defining functions\n",
    "def shout(sentence):\n",
    "    print(sentence.upper())  # NOTE the () for a method call\n",
    "    \n",
    "shout(\"Hello world\")\n",
    "\n",
    "# Scope: global variables are defined outside all functions\n",
    "prefix = \"HEY! \"\n",
    "\n",
    "# Redefine shout:\n",
    "def shout(sentence):\n",
    "    print(prefix + sentence.upper())\n",
    "    \n",
    "shout (\"Hello world\")\n",
    "\n",
    "# Default values and named parameters\n",
    "def shout(sentence, prefix = \"HEY! \", suffix = \"!!!\"):\n",
    "    print(prefix + sentence.upper() + suffix)\n",
    "    \n",
    "shout (\"hello\")\n",
    "shout (\"hello\", \"HEY YOU: \", \"!!\")\n",
    "shout (\"hello\", suffix = \"?!?!\")"
   ]
  },
  {
   "cell_type": "markdown",
   "metadata": {},
   "source": [
    "# Classes and Objects"
   ]
  },
  {
   "cell_type": "code",
   "execution_count": 42,
   "metadata": {},
   "outputs": [
    {
     "name": "stdout",
     "output_type": "stream",
     "text": [
      "['__add__', '__class__', '__class_getitem__', '__contains__', '__delattr__', '__delitem__', '__dir__', '__doc__', '__eq__', '__format__', '__ge__', '__getattribute__', '__getitem__', '__getstate__', '__gt__', '__hash__', '__iadd__', '__imul__', '__init__', '__init_subclass__', '__iter__', '__le__', '__len__', '__lt__', '__mul__', '__ne__', '__new__', '__reduce__', '__reduce_ex__', '__repr__', '__reversed__', '__rmul__', '__setattr__', '__setitem__', '__sizeof__', '__str__', '__subclasshook__', 'append', 'clear', 'copy', 'count', 'extend', 'index', 'insert', 'pop', 'remove', 'reverse', 'sort']\n",
      "\n",
      "An int object:\n",
      "<class 'int'>\n",
      "['__abs__', '__add__', '__and__', '__bool__', '__ceil__', '__class__', '__delattr__', '__dir__', '__divmod__', '__doc__', '__eq__', '__float__', '__floor__', '__floordiv__', '__format__', '__ge__', '__getattribute__', '__getnewargs__', '__getstate__', '__gt__', '__hash__', '__index__', '__init__', '__init_subclass__', '__int__', '__invert__', '__le__', '__lshift__', '__lt__', '__mod__', '__mul__', '__ne__', '__neg__', '__new__', '__or__', '__pos__', '__pow__', '__radd__', '__rand__', '__rdivmod__', '__reduce__', '__reduce_ex__', '__repr__', '__rfloordiv__', '__rlshift__', '__rmod__', '__rmul__', '__ror__', '__round__', '__rpow__', '__rrshift__', '__rshift__', '__rsub__', '__rtruediv__', '__rxor__', '__setattr__', '__sizeof__', '__str__', '__sub__', '__subclasshook__', '__truediv__', '__trunc__', '__xor__', 'as_integer_ratio', 'bit_count', 'bit_length', 'conjugate', 'denominator', 'from_bytes', 'imag', 'is_integer', 'numerator', 'real', 'to_bytes']\n",
      "The default value of an integer is: <__main__.int object at 0x000001B299ADA120>\n",
      "\n",
      "A boolean\n",
      "<class 'bool'>\n",
      "['__class__', '__delattr__', '__dict__', '__dir__', '__doc__', '__eq__', '__format__', '__ge__', '__getattribute__', '__getstate__', '__gt__', '__hash__', '__init__', '__init_subclass__', '__le__', '__lt__', '__module__', '__ne__', '__new__', '__reduce__', '__reduce_ex__', '__repr__', '__setattr__', '__sizeof__', '__str__', '__subclasshook__', '__weakref__', 'number']\n",
      "<class '__main__.thing'>\n",
      "[<class '__main__.thing'>, <class 'object'>]\n"
     ]
    }
   ],
   "source": [
    "# Built in classes\n",
    "a = [1, 2, 3, 4, 5]\n",
    "print(dir(a))\n",
    "\n",
    "# Everything is an object (more or less)\n",
    "print('\\nAn int object:')\n",
    "print(type(5))  \n",
    "print(dir(5))\n",
    "\n",
    "i = int()\n",
    "print(f'The default value of an integer is: {i}')\n",
    "\n",
    "print('\\nA boolean')\n",
    "print(type(True))\n",
    "\n",
    "# A baby class\n",
    "class thing:\n",
    "    def __init__(self):\n",
    "       self.number = 1\n",
    "        \n",
    "thing1 = thing()\n",
    "print(dir(thing1))\n",
    "print(type(thing1))\n",
    "print(type(thing1).mro()) # Method resolution order\n",
    "\n",
    "# thing1 inherits from class object!"
   ]
  },
  {
   "cell_type": "code",
   "execution_count": 43,
   "metadata": {},
   "outputs": [
    {
     "name": "stdout",
     "output_type": "stream",
     "text": [
      "Raymer, Michael [12345] (Grad)\n",
      "Raymer, Ted [12345] (Grad)\n",
      "Raymer, Ted [12345] [Type: Transfer] (Grad)\n",
      "Class of the classes object:  list\n",
      "\n",
      "CEG 3310\n",
      "CS 3100\n",
      "[<class '__main__.GradStudent'>, <class '__main__.Student'>, <class 'object'>]\n"
     ]
    }
   ],
   "source": [
    "# Defining a class\n",
    "class Student:\n",
    "    \n",
    "    # Instance variables are added dynamically\n",
    "    # NOTE that . can mean call a method or access a data element\n",
    "    # NOTE: No private or protected elements or methods\n",
    "    def __init__(self, lastName, firstName, UID):\n",
    "        self.lastName = lastName\n",
    "        self.firstName = firstName\n",
    "        self.UID = UID\n",
    "        self.classes = []\n",
    "        \n",
    "    # __str__ converts to a string (called by str() )\n",
    "    # also define __repr__ for interactive display\n",
    "    def __str__(self):\n",
    "        result =  \"%s, %s [%d]\" % (self.lastName, self.firstName, self.UID)\n",
    "        if (getattr(self, 'type', False)):        # HOW IS THIS not a method??\n",
    "            result += f\" [Type: {self.type}]\"     # Another way to format a string\n",
    "        return result\n",
    "        \n",
    "    # add a course\n",
    "    def addClass(self, newClass):\n",
    "        self.classes.append(newClass)\n",
    "        \n",
    "    # add an extra data field to some Students\n",
    "    def addType(self, newType):\n",
    "        self.type = newType\n",
    "        \n",
    "    # Generator to iterate over all courses\n",
    "    def allClasses(self):\n",
    "        for nextClass in self.classes:\n",
    "            yield nextClass\n",
    "            \n",
    "    # Alternate approach for iterating, return the iterator from\n",
    "    # the list class\n",
    "    def __iter__(self):\n",
    "        return self.classes.__iter__()\n",
    " \n",
    "# Defining a child class\n",
    "class GradStudent(Student):\n",
    "    def __init__(self, lastName, firstName, UID):\n",
    "        # Super actually returns a Proxy Object of the superclass\n",
    "        # so that we can call its methods\n",
    "        # super() == super(Student, self)\n",
    "        super().__init__(lastName, firstName, UID)\n",
    "        \n",
    "    def __str__(self):\n",
    "        return super().__str__() + \" (Grad)\"\n",
    "\n",
    "# Create a student object\n",
    "me = GradStudent('Raymer', 'Michael', 12345)\n",
    "print(me)\n",
    "\n",
    "me.addClass('CEG 3310')\n",
    "me.addClass('CS 3100')\n",
    "me.firstName = 'Ted'\n",
    "print(me)\n",
    "\n",
    "me.addType('Transfer')\n",
    "print(me)\n",
    "\n",
    "# Additional instance variables can be added from any context\n",
    "me.alumnus = False\n",
    "\n",
    "# Show the class of an object\n",
    "print(\"Class of the classes object:  \" + me.classes.__class__.__name__ + \"\\n\")\n",
    "\n",
    "#print(me)\n",
    "for nextClass in me:\n",
    "    print(nextClass)\n",
    "        \n",
    "\n",
    "# Inheritance\n",
    "print(type(me).mro())"
   ]
  },
  {
   "cell_type": "code",
   "execution_count": 44,
   "metadata": {},
   "outputs": [
    {
     "name": "stdout",
     "output_type": "stream",
     "text": [
      "<class '__main__.int'>\n",
      "<class 'int'>\n"
     ]
    }
   ],
   "source": [
    "# No MonkeyPatching in Python!  Create a subclass if you want to extend\n",
    "class int:\n",
    "    def __init__(self, value=0):\n",
    "        self.value = value\n",
    "        \n",
    "i = int(3)\n",
    "print(type(i))\n",
    "j = 7\n",
    "print(type(j))\n",
    "\n",
    "# Reopening class Student redefines/replaces it, doesn't add to it"
   ]
  },
  {
   "cell_type": "markdown",
   "metadata": {},
   "source": [
    "# Operator overloading (e.g. Special class methods)\n",
    "## add, sub, gt, eq, lt, mul, etc."
   ]
  },
  {
   "cell_type": "code",
   "execution_count": 45,
   "metadata": {},
   "outputs": [
    {
     "name": "stdout",
     "output_type": "stream",
     "text": [
      "#0CDD5D\n",
      "#14C896\n",
      "#20FFF3\n"
     ]
    }
   ],
   "source": [
    "class RGB:\n",
    "    def __init__(self, red = 0, blue = 0, green = 0):\n",
    "        for value in [red, blue, green]:\n",
    "            if value > 255:\n",
    "                raise RuntimeError(\"Invalid color value\")\n",
    "        self.red = red\n",
    "        self.blue = blue\n",
    "        self.green = green\n",
    "        \n",
    "    def __str__(self):\n",
    "        return '#%02X%02X%02X' % (self.red, self.blue, self.green)\n",
    "    \n",
    "    def __add__(self, other):\n",
    "        new_red = min(self.red + other.red, 255)\n",
    "        new_blue = min(self.blue + other.blue, 255)\n",
    "        new_green = min(self.green + other.green, 255)\n",
    "        return RGB(new_red, new_blue, new_green)\n",
    "        \n",
    "color1 = RGB(12, 221, 93)\n",
    "print(color1)\n",
    "\n",
    "color2 = RGB(20, 200, 150)\n",
    "print(color2)\n",
    "\n",
    "color3 = color1 + color2\n",
    "print(color3)\n",
    "\n",
    "# Others include: __add__, __sub__, __gt__, __eq__, __lt__, __mul__, etc.\n"
   ]
  },
  {
   "cell_type": "markdown",
   "metadata": {},
   "source": [
    "# Iterators\n",
    "## The Iterator Protocal\n",
    "An iterator is a special object, kind of like a pointer.  It is tied to a collection object.  To be iterable, an object must return an iterator object when \\_\\_iter\\_\\_() is called.  An iterator object must support the method  \\_\\_next\\_\\_().\n",
    "\n",
    "The built-in function iter() simply calls \\_\\_iter\\_\\_().  next() calls \\_\\_next\\_\\_()"
   ]
  },
  {
   "cell_type": "code",
   "execution_count": 46,
   "metadata": {},
   "outputs": [
    {
     "name": "stdout",
     "output_type": "stream",
     "text": [
      "<class 'list_iterator'>\n",
      "['__class__', '__delattr__', '__dir__', '__doc__', '__eq__', '__format__', '__ge__', '__getattribute__', '__getstate__', '__gt__', '__hash__', '__init__', '__init_subclass__', '__iter__', '__le__', '__length_hint__', '__lt__', '__ne__', '__new__', '__next__', '__reduce__', '__reduce_ex__', '__repr__', '__setattr__', '__setstate__', '__sizeof__', '__str__', '__subclasshook__']\n"
     ]
    }
   ],
   "source": [
    "a = [1, 2, 3, 4, 5]\n",
    "a_it = iter(a)  # Returns an iterator\n",
    "print(type(a_it))\n",
    "print(dir(a_it))"
   ]
  },
  {
   "cell_type": "code",
   "execution_count": 47,
   "metadata": {},
   "outputs": [
    {
     "name": "stdout",
     "output_type": "stream",
     "text": [
      "1\n",
      "2\n",
      "3\n",
      "4\n",
      "5\n"
     ]
    }
   ],
   "source": [
    "print(next(a_it))\n",
    "print(next(a_it))\n",
    "print(next(a_it))\n",
    "print(next(a_it))\n",
    "print(next(a_it))"
   ]
  },
  {
   "cell_type": "code",
   "execution_count": 48,
   "metadata": {},
   "outputs": [
    {
     "ename": "StopIteration",
     "evalue": "",
     "output_type": "error",
     "traceback": [
      "\u001b[1;31m---------------------------------------------------------------------------\u001b[0m",
      "\u001b[1;31mStopIteration\u001b[0m                             Traceback (most recent call last)",
      "\u001b[1;32mc:\\Users\\micha\\OneDrive - Wright State University\\Data\\Classes\\CS 3180\\Jupyter\\Python Intro.ipynb Cell 19\u001b[0m line \u001b[0;36m2\n\u001b[0;32m      <a href='vscode-notebook-cell:/c%3A/Users/micha/OneDrive%20-%20Wright%20State%20University/Data/Classes/CS%203180/Jupyter/Python%20Intro.ipynb#X24sZmlsZQ%3D%3D?line=0'>1</a>\u001b[0m \u001b[39m# The StopIteration exception is thrown when there are no more objects\u001b[39;00m\n\u001b[1;32m----> <a href='vscode-notebook-cell:/c%3A/Users/micha/OneDrive%20-%20Wright%20State%20University/Data/Classes/CS%203180/Jupyter/Python%20Intro.ipynb#X24sZmlsZQ%3D%3D?line=1'>2</a>\u001b[0m \u001b[39mprint\u001b[39m(\u001b[39mnext\u001b[39;49m(a_it))\n",
      "\u001b[1;31mStopIteration\u001b[0m: "
     ]
    }
   ],
   "source": [
    "# The StopIteration exception is thrown when there are no more objects\n",
    "print(next(a_it))"
   ]
  },
  {
   "cell_type": "code",
   "execution_count": null,
   "metadata": {},
   "outputs": [
    {
     "name": "stdout",
     "output_type": "stream",
     "text": [
      "1\n",
      "2\n",
      "3\n",
      "4\n",
      "5\n"
     ]
    }
   ],
   "source": [
    "# For x in blah: calls iter() and next() until StopIteration is thrown\n",
    "for i in a:\n",
    "    print(i)"
   ]
  },
  {
   "cell_type": "code",
   "execution_count": null,
   "metadata": {},
   "outputs": [
    {
     "name": "stdout",
     "output_type": "stream",
     "text": [
      "1\n",
      "2\n",
      "3\n",
      "4\n",
      "5\n"
     ]
    }
   ],
   "source": [
    "# You can use a for loop over an iterable OR an iterator\n",
    "for i in a_it:\n",
    "    print(i)"
   ]
  },
  {
   "cell_type": "code",
   "execution_count": null,
   "metadata": {},
   "outputs": [
    {
     "name": "stdout",
     "output_type": "stream",
     "text": [
      "1\n",
      "2\n",
      "3\n",
      "\n",
      "1\n",
      "2\n"
     ]
    }
   ],
   "source": [
    "# Here is a class that has an iterator\n",
    "# We can make a seperate iterator class tied to this class (like list_iterator)\n",
    "# or upto can be both an iterable and an iterator\n",
    "class upto:\n",
    "    def __init__(self, limit):\n",
    "        self.limit = limit\n",
    "        \n",
    "    def __iter__(self):\n",
    "        self.current = 1\n",
    "        return self\n",
    "    \n",
    "    def __next__(self):\n",
    "        if self.current <= self.limit:\n",
    "            returnval = self.current\n",
    "            self.current += 1\n",
    "            return returnval\n",
    "        else:\n",
    "            raise StopIteration\n",
    "            \n",
    "            \n",
    "u = upto(3)\n",
    "for i in u:\n",
    "    print(i)\n",
    "    \n",
    "# But, this way we can't have two iterators that differ\n",
    "print()\n",
    "i1 = iter(u)\n",
    "i2 = iter(u)\n",
    "print(next(i1))\n",
    "print(next(i2))\n"
   ]
  },
  {
   "cell_type": "code",
   "execution_count": null,
   "metadata": {},
   "outputs": [
    {
     "name": "stdout",
     "output_type": "stream",
     "text": [
      "1\n",
      "2\n",
      "3\n",
      "\n",
      "1\n",
      "1\n",
      "2\n",
      "2\n"
     ]
    }
   ],
   "source": [
    "# Here is a class that has an iterator\n",
    "# We can make a seperate iterator class tied to this class (like list_iterator)\n",
    "class upto:\n",
    "    def __init__(self, limit):\n",
    "        self.limit = limit\n",
    "        \n",
    "    def __iter__(self):\n",
    "        return upto_iterator(self)\n",
    "    \n",
    "            \n",
    "class upto_iterator:\n",
    "    def __init__(self, tied_to):\n",
    "        self.tied_to = tied_to\n",
    "        self.current = 1\n",
    "    \n",
    "    def __next__(self):\n",
    "        if self.current <= self.tied_to.limit:\n",
    "            returnval = self.current\n",
    "            self.current += 1\n",
    "            return returnval\n",
    "        else:\n",
    "            raise StopIteration\n",
    "            \n",
    "            \n",
    "u = upto(3)\n",
    "for i in u:\n",
    "    print(i)\n",
    "    \n",
    "# Now we can have two iterators that differ\n",
    "print()\n",
    "i1 = iter(u)\n",
    "i2 = iter(u)\n",
    "print(next(i1))\n",
    "print(next(i2))\n",
    "print(next(i1))\n",
    "print(next(i2))\n"
   ]
  },
  {
   "cell_type": "markdown",
   "metadata": {},
   "source": [
    "# Generators (vs Iterators)"
   ]
  },
  {
   "cell_type": "code",
   "execution_count": null,
   "metadata": {},
   "outputs": [
    {
     "name": "stdout",
     "output_type": "stream",
     "text": [
      "<generator object evens at 0x7f9a2c281f50>\n",
      "0\n",
      "2\n",
      "4\n",
      "0\n",
      "2\n",
      "4\n",
      "0\n",
      "2\n",
      "4\n"
     ]
    }
   ],
   "source": [
    "# An iterator has to remember its state somehow to respond to next()\n",
    "# So it requires an object.  This is great for containers, but sometimes\n",
    "# you just want a function to return values.  GENERATORS are functions\n",
    "# that return a sequence of values, without explicitly maintaining state:\n",
    "def evens():\n",
    "    i = 0\n",
    "    while(True):\n",
    "        # YIELD *sort of* returns the next value and suspends the function, maintaining all state!\n",
    "        yield(2*i)\n",
    "        i += 1\n",
    "        \n",
    "# First call to the function returns an iterator, like a class constructor\n",
    "e = evens()\n",
    "print(e)\n",
    "print(next(e))\n",
    "print(next(e))\n",
    "print(next(e))\n",
    "        \n",
    "# When the function truly returns, a StopIteration exception is thrown, just\n",
    "# like an iterator\n",
    "def evens_upto(limit):\n",
    "    for i in range(0, limit, 2):\n",
    "        # YIELD *sort of* returns the next value and suspends the function, maintaining all state!\n",
    "        yield i\n",
    "\n",
    "e = evens_upto(6)\n",
    "print(next(e))\n",
    "print(next(e))\n",
    "print(next(e))\n",
    "#print(next(e))\n",
    "\n",
    "# This allows us to use them in for loops:\n",
    "for i in evens_upto(6):\n",
    "    print(i)"
   ]
  },
  {
   "cell_type": "code",
   "execution_count": null,
   "metadata": {},
   "outputs": [
    {
     "name": "stdout",
     "output_type": "stream",
     "text": [
      "begin\n",
      "before yield 0\n",
      "0\n",
      "after yield 0\n",
      "before yield 1\n",
      "1\n",
      "after yield 1\n",
      "before yield 2\n",
      "2\n",
      "after yield 2\n",
      "end\n"
     ]
    },
    {
     "ename": "StopIteration",
     "evalue": "",
     "output_type": "error",
     "traceback": [
      "\u001b[0;31m---------------------------------------------------------------------------\u001b[0m",
      "\u001b[0;31mStopIteration\u001b[0m                             Traceback (most recent call last)",
      "\u001b[0;32m<ipython-input-83-0d6ff65f10fc>\u001b[0m in \u001b[0;36m<module>\u001b[0;34m\u001b[0m\n\u001b[1;32m     12\u001b[0m \u001b[0mprint\u001b[0m\u001b[0;34m(\u001b[0m\u001b[0mnext\u001b[0m\u001b[0;34m(\u001b[0m\u001b[0mf\u001b[0m\u001b[0;34m)\u001b[0m\u001b[0;34m)\u001b[0m\u001b[0;34m\u001b[0m\u001b[0;34m\u001b[0m\u001b[0m\n\u001b[1;32m     13\u001b[0m \u001b[0mprint\u001b[0m\u001b[0;34m(\u001b[0m\u001b[0mnext\u001b[0m\u001b[0;34m(\u001b[0m\u001b[0mf\u001b[0m\u001b[0;34m)\u001b[0m\u001b[0;34m)\u001b[0m\u001b[0;34m\u001b[0m\u001b[0;34m\u001b[0m\u001b[0m\n\u001b[0;32m---> 14\u001b[0;31m \u001b[0mprint\u001b[0m\u001b[0;34m(\u001b[0m\u001b[0mnext\u001b[0m\u001b[0;34m(\u001b[0m\u001b[0mf\u001b[0m\u001b[0;34m)\u001b[0m\u001b[0;34m)\u001b[0m\u001b[0;34m\u001b[0m\u001b[0;34m\u001b[0m\u001b[0m\n\u001b[0m",
      "\u001b[0;31mStopIteration\u001b[0m: "
     ]
    }
   ],
   "source": [
    "# The function pauses after the yield:\n",
    "def foo():\n",
    "    print(\"begin\")\n",
    "    for i in range(3):\n",
    "        print(\"before yield\", i)\n",
    "        yield i\n",
    "        print(\"after yield\", i)\n",
    "    print(\"end\")\n",
    "    \n",
    "f = foo()\n",
    "print(next(f))\n",
    "print(next(f))\n",
    "print(next(f))\n",
    "print(next(f))"
   ]
  },
  {
   "cell_type": "markdown",
   "metadata": {},
   "source": [
    "## Generator expressions\n",
    "Like list comprehensions for generators.\n",
    "Fast and concise!"
   ]
  },
  {
   "cell_type": "code",
   "execution_count": null,
   "metadata": {},
   "outputs": [
    {
     "name": "stdout",
     "output_type": "stream",
     "text": [
      "0\n",
      "1\n",
      "4\n",
      "9\n",
      "16\n",
      "25\n",
      "36\n",
      "49\n",
      "64\n",
      "81\n"
     ]
    }
   ],
   "source": [
    "a = (x*x for x in range(10))\n",
    "\n",
    "# A can now be consumed by things that expect iterators\n",
    "for i in a:\n",
    "    print(i)"
   ]
  },
  {
   "cell_type": "markdown",
   "metadata": {},
   "source": [
    "# Keyword arguments"
   ]
  },
  {
   "cell_type": "code",
   "execution_count": 55,
   "metadata": {},
   "outputs": [
    {
     "name": "stdout",
     "output_type": "stream",
     "text": [
      "Creating a rectangle\n",
      "Height = 1, width = 1, color = Blue\n",
      "<function myFunc at 0x000001B299A69BC0>\n",
      "Printing: Called with a parameter\n",
      "Printing: Called with a parameter\n",
      "Printing: Called with a parameter\n",
      "<function print_me at 0x000001B29A0EFBA0>\n"
     ]
    }
   ],
   "source": [
    "\n",
    "def myFunc(width = 1, height = 1, color = \"Black\"):\n",
    "    print(\"Creating a rectangle\")\n",
    "    print(f\"Height = {height}, width = {width}, color = {color}\")\n",
    "\n",
    "myFunc(color = \"Blue\")\n",
    "\n",
    "\n",
    "a = myFunc\n",
    "\n",
    "print(a)\n",
    "\n",
    "import functools\n",
    "import gc\n",
    "\n",
    "def three_times(some_function):\n",
    "    @functools.wraps(some_function)\n",
    "    def tripled(*args, **kargs):\n",
    "        some_function(*args, **kargs)\n",
    "        some_function(*args, **kargs)\n",
    "        some_function(*args, **kargs)\n",
    "    return tripled\n",
    "\n",
    "@three_times\n",
    "def print_me(text):\n",
    "    print(f'Printing: {text}')\n",
    "\n",
    "print_me(\"Called with a parameter\")\n",
    "\n",
    "# We've really broken our introspection though\n",
    "print(print_me)\n"
   ]
  },
  {
   "cell_type": "markdown",
   "metadata": {},
   "source": [
    "# Functions as first-class objects\n",
    "## Plus lambda and decorators"
   ]
  },
  {
   "cell_type": "code",
   "execution_count": 2,
   "metadata": {},
   "outputs": [
    {
     "name": "stdout",
     "output_type": "stream",
     "text": [
      "Positional arg 0 : 1\n",
      "Positional arg 1 : 2\n",
      "Positional arg 2 : 3\n",
      "Keyword arg hello : world\n",
      "Keyword arg answer : 42\n",
      "Keyword arg pi : 3.142857142857143\n",
      "<class 'function'>\n",
      "<class 'function'>\n",
      "Positional arg 0 : 10\n",
      "Positional arg 1 : 20\n",
      "Keyword arg hello : there\n",
      "Whee!!\n",
      "Whee!!\n",
      "Whee!!\n",
      "Whoa!\n",
      "Whoa!\n",
      "Whoa!\n",
      "<class 'function'>\n",
      "27\n",
      "63\n",
      "Whee!!\n",
      "Whee!!\n",
      "Whee!!\n",
      "Whee!!\n",
      "Whee!!\n",
      "Whee!!\n",
      "Hello\n",
      "Hello\n",
      "Hello\n",
      "Printing: Called with a parameter\n",
      "Printing: Called with a parameter\n",
      "Printing: Called with a parameter\n",
      "<function three_times.<locals>.tripled at 0x0000024718E9AE50>\n",
      "Pre-execution: there are 53130 total objects\n",
      "Executing make_triplet\n",
      "Done executing make_triplet\n",
      "Post execution: there are 53144 total objects\n",
      "Finished waste_some_time in 0.3926 secs\n",
      "Cannot call print_password without authenticating first\n",
      "Your password is: abc123\n",
      "Hi\n",
      "Hi\n",
      "Hi\n",
      "Hi\n",
      "Hi\n",
      "[<function duplicate_random at 0x0000024718E9A310>, <function permute at 0x0000024718E9A280>, <function negate at 0x0000024718E9A1F0>]\n",
      "[-1, -3, -4, -2, -5, -3]\n",
      "Ace of Spades\n",
      "Ace of Spades\n",
      "Same\n",
      "Card(rank='Ace', suit='Spades')\n",
      "Card(rank='Ace', suit='Spades')\n",
      "Same\n",
      "[Card(rank='2', suit='♣'), Card(rank='3', suit='♣'), Card(rank='4', suit='♣'), Card(rank='5', suit='♣'), Card(rank='6', suit='♣'), Card(rank='7', suit='♣'), Card(rank='8', suit='♣'), Card(rank='9', suit='♣'), Card(rank='10', suit='♣'), Card(rank='J', suit='♣'), Card(rank='Q', suit='♣'), Card(rank='K', suit='♣'), Card(rank='A', suit='♣'), Card(rank='2', suit='♢'), Card(rank='3', suit='♢'), Card(rank='4', suit='♢'), Card(rank='5', suit='♢'), Card(rank='6', suit='♢'), Card(rank='7', suit='♢'), Card(rank='8', suit='♢'), Card(rank='9', suit='♢'), Card(rank='10', suit='♢'), Card(rank='J', suit='♢'), Card(rank='Q', suit='♢'), Card(rank='K', suit='♢'), Card(rank='A', suit='♢'), Card(rank='2', suit='♡'), Card(rank='3', suit='♡'), Card(rank='4', suit='♡'), Card(rank='5', suit='♡'), Card(rank='6', suit='♡'), Card(rank='7', suit='♡'), Card(rank='8', suit='♡'), Card(rank='9', suit='♡'), Card(rank='10', suit='♡'), Card(rank='J', suit='♡'), Card(rank='Q', suit='♡'), Card(rank='K', suit='♡'), Card(rank='A', suit='♡'), Card(rank='2', suit='♠'), Card(rank='3', suit='♠'), Card(rank='4', suit='♠'), Card(rank='5', suit='♠'), Card(rank='6', suit='♠'), Card(rank='7', suit='♠'), Card(rank='8', suit='♠'), Card(rank='9', suit='♠'), Card(rank='10', suit='♠'), Card(rank='J', suit='♠'), Card(rank='Q', suit='♠'), Card(rank='K', suit='♠'), Card(rank='A', suit='♠')]\n",
      "\n",
      "Deck(cards=[Card(rank='2', suit='♣'), Card(rank='3', suit='♣'), Card(rank='4', suit='♣'), Card(rank='5', suit='♣'), Card(rank='6', suit='♣'), Card(rank='7', suit='♣'), Card(rank='8', suit='♣'), Card(rank='9', suit='♣'), Card(rank='10', suit='♣'), Card(rank='J', suit='♣'), Card(rank='Q', suit='♣'), Card(rank='K', suit='♣'), Card(rank='A', suit='♣'), Card(rank='2', suit='♢'), Card(rank='3', suit='♢'), Card(rank='4', suit='♢'), Card(rank='5', suit='♢'), Card(rank='6', suit='♢'), Card(rank='7', suit='♢'), Card(rank='8', suit='♢'), Card(rank='9', suit='♢'), Card(rank='10', suit='♢'), Card(rank='J', suit='♢'), Card(rank='Q', suit='♢'), Card(rank='K', suit='♢'), Card(rank='A', suit='♢'), Card(rank='2', suit='♡'), Card(rank='3', suit='♡'), Card(rank='4', suit='♡'), Card(rank='5', suit='♡'), Card(rank='6', suit='♡'), Card(rank='7', suit='♡'), Card(rank='8', suit='♡'), Card(rank='9', suit='♡'), Card(rank='10', suit='♡'), Card(rank='J', suit='♡'), Card(rank='Q', suit='♡'), Card(rank='K', suit='♡'), Card(rank='A', suit='♡'), Card(rank='2', suit='♠'), Card(rank='3', suit='♠'), Card(rank='4', suit='♠'), Card(rank='5', suit='♠'), Card(rank='6', suit='♠'), Card(rank='7', suit='♠'), Card(rank='8', suit='♠'), Card(rank='9', suit='♠'), Card(rank='10', suit='♠'), Card(rank='J', suit='♠'), Card(rank='Q', suit='♠'), Card(rank='K', suit='♠'), Card(rank='A', suit='♠')])\n"
     ]
    }
   ],
   "source": [
    "# Functions can take any number of args.  (We'll need this later)\n",
    "# *args is a tuple\n",
    "# **kwords is a dictionary\n",
    "def printall(*args, **kwords):\n",
    "    for i in range(0, len(args)):\n",
    "        print(f'Positional arg {i} : {args[i]}')\n",
    "        \n",
    "    for keyword in kwords:\n",
    "        print(f'Keyword arg {keyword} : {kwords[keyword]}')\n",
    "        \n",
    "printall(1, 2, 3, hello = 'world', answer = 42, pi = 22/7)\n",
    "\n",
    "# A function is a first-class object\n",
    "b = printall\n",
    "print(type(printall))\n",
    "print(type(b))\n",
    "b(10, 20, hello = 'there')  # All we need are ()'s to make a function call!\n",
    "\n",
    "# This means that EVERY function in Python can meet Ruby's definition\n",
    "# of 'iterator' (sort of)\n",
    "def three_times(some_function):\n",
    "    some_function()\n",
    "    some_function()\n",
    "    some_function()\n",
    "    \n",
    "def print_whee():\n",
    "    print(\"Whee!!\")\n",
    "\n",
    "three_times(print_whee)  #NOTICE no parens!  Why?\n",
    "\n",
    "# What if I want to create the function on the fly just for this call?\n",
    "# Remember lambda??\n",
    "three_times(lambda : print('Whoa!'))\n",
    "    \n",
    "# LIMITATION\n",
    "# This won't work - lambda functions take in parameters\n",
    "# and return values.  No assignment.  Simple single-expression functions\n",
    "# a = 2\n",
    "# three_times(lambda a : a = a * 2)\n",
    "\n",
    "\n",
    "# A function can create and return another function\n",
    "def make_multiplier(value):\n",
    "    \n",
    "    # def creates a function object!!!\n",
    "    # Scope of 'multiplier' variable is local\n",
    "    # but we can return a copy\n",
    "    def multiplier(input):\n",
    "        return input * value\n",
    "\n",
    "    # Return a pointer to our newly created function object\n",
    "    return multiplier\n",
    "   \n",
    "# Notice that \"value\" somehow sticks around\n",
    "# Shouldn't it go out of scope?\n",
    "# !!!! Explain a \"closure\" and diagram !!!!\n",
    "times3 = make_multiplier(3)\n",
    "times7 = make_multiplier(7)\n",
    "print(type(times3))\n",
    "print(times3(9))\n",
    "print(times7(9))\n",
    "\n",
    "    \n",
    "# So I can create a function that\n",
    "# 1) Expects another function\n",
    "# 2) Returns a new function that calls the original\n",
    "#    function three times!\n",
    "    \n",
    "def three_times(some_function):\n",
    "    def tripled():\n",
    "        some_function()\n",
    "        some_function()\n",
    "        some_function()\n",
    "    return tripled\n",
    "    \n",
    "three_times(print_whee)()\n",
    "\n",
    "# Since print_whee is just a variable, I can redefine it:\n",
    "# Not so different from a = a + 1\n",
    "print_whee = three_times(print_whee)\n",
    "print_whee()\n",
    "\n",
    "\n",
    "# Decorators do this!  func = some_other_func(func)\n",
    "@three_times\n",
    "def say_hello():\n",
    "    print(\"Hello\")\n",
    "\n",
    "say_hello()\n",
    "# It is as if we did say_hello = three_times(say_hello)\n",
    "# \"Syntactic sugar\"\n",
    "    \n",
    "#What if I want to pass parameters to the function\n",
    "@three_times\n",
    "def print_me(text):\n",
    "    print(f'Printing: {text}')\n",
    "\n",
    "# ERORR:  print_me(\"Called with a parameter\")\n",
    "\n",
    "# So I need to create a \"tripler\" that can expect any number of\n",
    "# parameters\n",
    "# DRAW THIS OUT ON ONENOTE:\n",
    "def three_times(some_function):\n",
    "    def tripled(*args, **kargs):\n",
    "        some_function(*args, **kargs)\n",
    "        some_function(*args, **kargs)\n",
    "        some_function(*args, **kargs)\n",
    "    return tripled\n",
    "\n",
    "@three_times\n",
    "def print_me(text):\n",
    "    print(f'Printing: {text}')\n",
    "\n",
    "print_me(\"Called with a parameter\")\n",
    "\n",
    "# We've really broken our introspection though\n",
    "print(print_me)\n",
    "\n",
    "# Fixed with import functools (try it)\n",
    "# import functools\n",
    "# @functools.wraps(some_function) # RESTORE the introspection\n",
    "import functools\n",
    "import gc\n",
    "def debug_globals(some_function):\n",
    "    @functools.wraps(some_function)\n",
    "    def tracked(*args, **kargs):\n",
    "        print(f'Pre-execution: there are {len(gc.get_objects())} total objects')\n",
    "        print(f'Executing {some_function.__name__}')\n",
    "        some_function(*args, **kargs)\n",
    "        print(f'Done executing {some_function.__name__}')\n",
    "        print(f'Post execution: there are {len(gc.get_objects())} total objects')\n",
    "    return tracked\n",
    "        \n",
    "@debug_globals\n",
    "def make_triplet():\n",
    "    new_triplet = tuple([1, 2, 3])\n",
    "    return new_triplet\n",
    "\n",
    "a = make_triplet()     \n",
    "\n",
    "# Using Decorators for Fun and Profit\n",
    "import functools\n",
    "import time\n",
    "\n",
    "def timer(func):\n",
    "    \"\"\"Print the runtime of the decorated function\"\"\"\n",
    "    @functools.wraps(func)\n",
    "    def wrapper_timer(*args, **kwargs):\n",
    "        start_time = time.perf_counter()    # 1\n",
    "        value = func(*args, **kwargs)\n",
    "        end_time = time.perf_counter()      # 2\n",
    "        run_time = end_time - start_time    # 3\n",
    "        print(f\"Finished {func.__name__} in {run_time:.4f} secs\")\n",
    "        return value\n",
    "    return wrapper_timer\n",
    "\n",
    "@timer\n",
    "def waste_some_time(num_times):\n",
    "    for _ in range(num_times):\n",
    "        sum([i**2 for i in range(10000)])\n",
    "        \n",
    "waste_some_time(100)\n",
    "\n",
    "# Example:  checking if we are authenticated\n",
    "def check_authentication():\n",
    "    return False\n",
    "\n",
    "def auth_required(func):\n",
    "    @functools.wraps(func)\n",
    "    def secure_function(*args, **kwargs):\n",
    "        if not check_authentication():\n",
    "            print(f\"Cannot call {secure_function.__name__} without authenticating first\")\n",
    "            return None\n",
    "        else:\n",
    "            return func(*args, **kwargs)\n",
    "    return secure_function\n",
    "            \n",
    "@auth_required\n",
    "def print_password(pw):\n",
    "    print(f\"Your password is: {pw}\")\n",
    "    \n",
    "print_password(\"abc123\")\n",
    "\n",
    "def check_authentication():\n",
    "    return True\n",
    "\n",
    "print_password(\"abc123\")\n",
    "\n",
    "## HERE:\n",
    "def three_times(some_function):\n",
    "    def tripled():\n",
    "        some_function()\n",
    "        some_function()\n",
    "        some_function()\n",
    "    return tripled\n",
    "\n",
    "## COMPLICATED:  wrappers with arguments\n",
    "## Back to CLOSURES\n",
    "## Diagram this\n",
    "def repeat(num_times):\n",
    "    def decorator_repeat(func):\n",
    "        @functools.wraps(func)\n",
    "        def wrapper_repeat(*args, **kwargs):\n",
    "            for _ in range(num_times):\n",
    "                value = func(*args, **kwargs)\n",
    "            return value\n",
    "        return wrapper_repeat\n",
    "    return decorator_repeat\n",
    "\n",
    "# Now repeat(5) RETURNS a function object called\n",
    "# decorator_repeat that expects a function and\n",
    "# returns a new function that calls it 5 times.\n",
    "# Then we do @decorator_repeat\n",
    "#             blah\n",
    "@repeat(5)\n",
    "def say_hi():\n",
    "    print(\"Hi\")\n",
    "    \n",
    "say_hi()\n",
    "\n",
    "# EXAMPLE: Registering a function without changing it\n",
    "import random\n",
    "LIST_MUTATORS = []\n",
    "\n",
    "def register_list_mutator(mutator_function):\n",
    "    LIST_MUTATORS.append(mutator_function)\n",
    "    return mutator_function\n",
    "\n",
    "@register_list_mutator\n",
    "def duplicate_random(some_list):\n",
    "    some_list.append(random.choice(some_list))\n",
    "    \n",
    "@register_list_mutator\n",
    "def permute(some_list):\n",
    "    random.shuffle(some_list)\n",
    "    \n",
    "@register_list_mutator\n",
    "def negate(some_list):\n",
    "    for i in range(len(some_list)):\n",
    "        some_list[i] = int(some_list[i]) * -1\n",
    "    \n",
    "print(LIST_MUTATORS)\n",
    "my_list = [1, 2, 3, 4, 5]\n",
    "for func in LIST_MUTATORS:\n",
    "    func(my_list)\n",
    "    \n",
    "print(my_list)\n",
    "\n",
    "# An example: Data Classes\n",
    "class Card:\n",
    "    def __init__(self, face, suit):\n",
    "        self.face = face.title()\n",
    "        self.suit = suit.title()\n",
    "        \n",
    "    def __str__(self):\n",
    "        return f'{self.face} of {self.suit}'\n",
    "    \n",
    "    # Do this after showing == doesn't work\n",
    "    def __eq__(self, other):\n",
    "        if (self.face == other.face and self.suit == other.suit):\n",
    "            return True\n",
    "        else:\n",
    "            return False\n",
    "\n",
    "card1 = Card('Ace', 'Spades')\n",
    "card2 = Card('Ace', 'Spades')\n",
    "print(str(card1))\n",
    "print(str(card1))\n",
    "print('Same' if card1 == card2 else 'Different')\n",
    "\n",
    "from dataclasses import dataclass\n",
    "@dataclass\n",
    "class Card:\n",
    "    rank: str\n",
    "    suit: str\n",
    "\n",
    "card1 = Card('Ace', 'Spades')\n",
    "card2 = Card('Ace', 'Spades')\n",
    "print(str(card1))\n",
    "print(str(card1))\n",
    "print('Same' if card1 == card2 else 'Different')\n",
    "\n",
    "# Another example\n",
    "RANKS = '2 3 4 5 6 7 8 9 10 J Q K A'.split()\n",
    "SUITS = '♣ ♢ ♡ ♠'.split()\n",
    "\n",
    "# This is a nested expression list comprehension.\n",
    "# I won't go into more detail, but this one is easy...\n",
    "def make_deck():\n",
    "    return [Card(r, s) for s in SUITS for r in RANKS]\n",
    "    \n",
    "a = make_deck()\n",
    "print(a)\n",
    "\n",
    "# We need these to allow list type specifiers and\n",
    "# field designations\n",
    "from dataclasses import field\n",
    "from typing import List\n",
    "\n",
    "# Define a dataclass with a list field and a default\n",
    "# value created by a function!\n",
    "@dataclass\n",
    "class Deck:\n",
    "    cards: List[Card] = field(default_factory=make_deck)\n",
    "\n",
    "b = Deck()\n",
    "print()\n",
    "print(b)"
   ]
  },
  {
   "cell_type": "markdown",
   "metadata": {},
   "source": [
    "# Using Python Modules"
   ]
  },
  {
   "cell_type": "code",
   "execution_count": 7,
   "metadata": {},
   "outputs": [
    {
     "name": "stdout",
     "output_type": "stream",
     "text": [
      "Mike says: hi\n",
      "Mike says: goodbye\n",
      "['__builtins__', '__cached__', '__doc__', '__file__', '__loader__', '__name__', '__package__', '__spec__', 'say_goodbye', 'say_hi']\n",
      "Mike says: hi\n",
      "Mike says: goodbye\n",
      "Mike says: hi\n"
     ]
    }
   ],
   "source": [
    "# With a namespace:\n",
    "import mike\n",
    "mike.say_hi()\n",
    "mike.say_goodbye()\n",
    "print(dir(mike))\n",
    "\n",
    "# Just one function, no namespace\n",
    "from mike import say_hi\n",
    "say_hi()\n",
    "\n",
    "# All with no namespace\n",
    "from mike import *\n",
    "say_goodbye()\n",
    "\n",
    "# All with different namespace\n",
    "import mike as me\n",
    "me.say_hi()\n",
    "\n"
   ]
  },
  {
   "cell_type": "markdown",
   "metadata": {},
   "source": [
    "# Numpy and arrays\n",
    "* Python lists are essentially linked lists.  They are not contiguous and don't exhibit locality.  Cache slow!\n",
    "* Numpy arrays are contiguous and typically 50x faster than lists\n",
    "* You may need to use anaconda or pip to install numpy first"
   ]
  },
  {
   "cell_type": "code",
   "execution_count": 6,
   "metadata": {},
   "outputs": [
    {
     "name": "stdout",
     "output_type": "stream",
     "text": [
      "[1 2 3 4 5]\n",
      "<class 'numpy.ndarray'>\n",
      "[[ 1  2  3  4  5]\n",
      " [ 6  7  8  9 10]]\n",
      "8\n",
      "2\n",
      "(2, 5)\n",
      "[[[ 1  2  3]\n",
      "  [ 4  5  6]]\n",
      "\n",
      " [[ 7  8  9]\n",
      "  [10 11 12]]]\n",
      "3\n",
      "(2, 2, 3)\n",
      "6\n"
     ]
    }
   ],
   "source": [
    "import numpy as np\n",
    "a = np.array([1, 2, 3, 4, 5])\n",
    "print(a)\n",
    "print(type(a))\n",
    "\n",
    "b = np.array([[1, 2, 3, 4, 5], [6, 7, 8, 9, 10]])\n",
    "print(b)\n",
    "print(b[1,2])\n",
    "print(b.ndim)\n",
    "print(b.shape)\n",
    "\n",
    "c = np.array([[[1, 2, 3], [4, 5, 6]], [[7, 8, 9], [10, 11, 12]]])\n",
    "print(c)\n",
    "print(c.ndim)\n",
    "print(c.shape)\n",
    "print(c[0, 1, 2])\n"
   ]
  },
  {
   "cell_type": "markdown",
   "metadata": {},
   "source": [
    "## Slicing numpy arrays"
   ]
  },
  {
   "cell_type": "code",
   "execution_count": 34,
   "metadata": {},
   "outputs": [
    {
     "name": "stdout",
     "output_type": "stream",
     "text": [
      "[3 4 5]\n",
      "[2 3]\n"
     ]
    }
   ],
   "source": [
    "# For any dimension: start:end:step\n",
    "print(a[2:5])  # Indices 2, 3, and 4\n",
    "print(c[0,0,1:])"
   ]
  },
  {
   "cell_type": "markdown",
   "metadata": {},
   "source": [
    "# Numpy array data types and properties"
   ]
  },
  {
   "cell_type": "code",
   "execution_count": 46,
   "metadata": {},
   "outputs": [
    {
     "name": "stdout",
     "output_type": "stream",
     "text": [
      "int64\n",
      "[1 2]\n",
      "<U5\n",
      "['hello' 'there']\n",
      "<U21\n",
      "['1' '2' '3' '4']\n",
      "float64\n",
      "[1.5 3.  4.  5. ]\n",
      "int32\n",
      "[1 3 4 5]\n",
      "[1 2 3]\n",
      "int32\n"
     ]
    }
   ],
   "source": [
    "a = np.array([1, 2])\n",
    "print(a.dtype)\n",
    "print(a)\n",
    "\n",
    "# < is byte ordering (big or little endian)\n",
    "# 5 bytes each \n",
    "a = np.array([\"hello\", \"there\"])\n",
    "print(a.dtype)\n",
    "print(a)\n",
    "\n",
    "# The entire array is converted to unicode\n",
    "a=np.array([1, 2, 3, \"4\"])\n",
    "print(a.dtype)\n",
    "print(a)\n",
    "\n",
    "# Float\n",
    "a = np.array([1.5, 3, 4, 5])\n",
    "print(a.dtype)\n",
    "print(a)\n",
    "\n",
    "# Force to 4-byte integers\n",
    "a = np.array([1.5, 3, 4, 5], 'i4')\n",
    "print(a.dtype)\n",
    "print(a)\n",
    "\n",
    "# Unable to convert\n",
    "# np.array(['a', '2', '3'], dtype='i')\n",
    "\n",
    "# Converting types\n",
    "arr = np.array([1.1, 2.1, 3.1])\n",
    "\n",
    "newarr = arr.astype('i')\n",
    "\n",
    "print(newarr)\n",
    "print(newarr.dtype)"
   ]
  },
  {
   "cell_type": "markdown",
   "metadata": {},
   "source": [
    "# Reshaping\n"
   ]
  },
  {
   "cell_type": "code",
   "execution_count": 51,
   "metadata": {},
   "outputs": [
    {
     "name": "stdout",
     "output_type": "stream",
     "text": [
      "[ 0  1  2  3  4  5  6  7  8  9 10 11]\n",
      "(12,)\n",
      "[[ 0  1  2  3]\n",
      " [ 4  5  6  7]\n",
      " [ 8  9 10 11]]\n",
      "(3, 4)\n",
      "[[[ 0  1]\n",
      "  [ 2  3]\n",
      "  [ 4  5]]\n",
      "\n",
      " [[ 6  7]\n",
      "  [ 8  9]\n",
      "  [10 11]]]\n"
     ]
    }
   ],
   "source": [
    "a = np.array(range(12))\n",
    "print(a)\n",
    "print(a.shape)\n",
    "b = a.reshape(3,4)\n",
    "print(b)\n",
    "print(b.shape)\n",
    "c = b.reshape(2, 3, 2)\n",
    "print(c)\n"
   ]
  },
  {
   "cell_type": "code",
   "execution_count": 52,
   "metadata": {},
   "outputs": [],
   "source": [
    "# Iterating an array may not be what you expect"
   ]
  },
  {
   "cell_type": "code",
   "execution_count": 59,
   "metadata": {},
   "outputs": [
    {
     "name": "stdout",
     "output_type": "stream",
     "text": [
      "[[0 1]\n",
      " [2 3]\n",
      " [4 5]]\n",
      "------------\n",
      "[[ 6  7]\n",
      " [ 8  9]\n",
      " [10 11]]\n",
      "------------\n",
      "0\n",
      "1\n",
      "2\n",
      "3\n",
      "4\n",
      "5\n",
      "6\n",
      "7\n",
      "8\n",
      "9\n",
      "10\n",
      "11\n",
      "0\n",
      "1\n",
      "2\n",
      "3\n",
      "4\n",
      "5\n",
      "6\n",
      "7\n",
      "8\n",
      "9\n",
      "10\n",
      "11\n",
      "(0, 0) 1\n",
      "(0, 1) 2\n",
      "(0, 2) 3\n",
      "(0, 3) 4\n",
      "(1, 0) 5\n",
      "(1, 1) 6\n",
      "(1, 2) 7\n",
      "(1, 3) 8\n"
     ]
    }
   ],
   "source": [
    "for i in c:\n",
    "    print(i)\n",
    "    print(\"------------\")\n",
    "    \n",
    "for x in c:\n",
    "    for y in x:\n",
    "        for z in y:\n",
    "            print(z)\n",
    "            \n",
    "for i in np.nditer(c):\n",
    "    print(i)\n",
    "    \n",
    "arr = np.array([[1, 2, 3, 4], [5, 6, 7, 8]])\n",
    "\n",
    "for idx, x in np.ndenumerate(arr):\n",
    "  print(idx, x)"
   ]
  },
  {
   "cell_type": "markdown",
   "metadata": {},
   "source": [
    "# Combining arrays"
   ]
  },
  {
   "cell_type": "code",
   "execution_count": 79,
   "metadata": {},
   "outputs": [
    {
     "name": "stdout",
     "output_type": "stream",
     "text": [
      "[[1 2 5 6]\n",
      " [3 4 7 8]]\n",
      "\n",
      "[[[1 5]\n",
      "  [2 6]]\n",
      "\n",
      " [[3 7]\n",
      "  [4 8]]]\n"
     ]
    }
   ],
   "source": [
    "arr1 = np.array([[1, 2], [3, 4]])\n",
    "arr2 = np.array([[5, 6], [7, 8]])\n",
    "\n",
    "\n",
    "arr = np.concatenate((arr1, arr2), axis=1)\n",
    "print(arr)\n",
    "\n",
    "print()\n",
    "# IF you want to add a new dimension, you need to stack them\n",
    "arr = np.stack((arr1, arr2), axis=2)\n",
    "print(arr)\n"
   ]
  },
  {
   "cell_type": "markdown",
   "metadata": {},
   "source": [
    "# Other stuff"
   ]
  },
  {
   "cell_type": "code",
   "execution_count": 86,
   "metadata": {},
   "outputs": [
    {
     "name": "stdout",
     "output_type": "stream",
     "text": [
      "[[36 11 67 11 22]\n",
      " [30 20 49 42 55]\n",
      " [ 6  1 83 17 16]]\n",
      "[[0.09352462 0.99912258 0.77631049 0.27381911 0.4535513 ]\n",
      " [0.42212126 0.13716944 0.81298281 0.28776299 0.13038342]\n",
      " [0.83506473 0.22025302 0.44495215 0.38048769 0.21386012]]\n",
      "[[ 0.52552182  1.0063154  -0.5825322   0.18028602 -1.34667913]\n",
      " [ 1.10961218 -0.89583951 -0.14663    -0.04327299 -0.0474505 ]\n",
      " [-0.42006323 -0.61787207 -0.03641615  0.55023416 -1.46257408]]\n"
     ]
    }
   ],
   "source": [
    "a = np.random.randint(100, size = (3,5))\n",
    "print(a)\n",
    "\n",
    "a = np.random.rand(3,5)\n",
    "print(a)\n",
    "\n",
    "a = np.random.normal(size=(3,5))\n",
    "print(a)"
   ]
  },
  {
   "cell_type": "markdown",
   "metadata": {},
   "source": [
    "# Plotting data with Seaborn and MatPlotLib"
   ]
  },
  {
   "cell_type": "code",
   "execution_count": 7,
   "metadata": {},
   "outputs": [
    {
     "data": {
      "text/plain": [
       "<matplotlib.axes._subplots.AxesSubplot at 0x27765822580>"
      ]
     },
     "execution_count": 7,
     "metadata": {},
     "output_type": "execute_result"
    },
    {
     "data": {
      "image/png": "[encoded data removed]",
      "text/plain": [
       "<Figure size 432x288 with 1 Axes>"
      ]
     },
     "metadata": {
      "needs_background": "light"
     },
     "output_type": "display_data"
    }
   ],
   "source": [
    "# Samuel Norman Seaborn from West Wing:\n",
    "import seaborn as sns\n",
    "\n",
    "a = np.random.normal(size = (1000))\n",
    "sns.distplot(a, bins=20)"
   ]
  },
  {
   "cell_type": "code",
   "execution_count": 8,
   "metadata": {},
   "outputs": [
    {
     "data": {
      "text/plain": [
       "<matplotlib.axes._subplots.AxesSubplot at 0x277609acc10>"
      ]
     },
     "execution_count": 8,
     "metadata": {},
     "output_type": "execute_result"
    },
    {
     "data": {
      "image/png": "[encoded data removed]",
      "text/plain": [
       "<Figure size 432x288 with 1 Axes>"
      ]
     },
     "metadata": {
      "needs_background": "light"
     },
     "output_type": "display_data"
    }
   ],
   "source": [
    "a = np.random.normal(size = (500, 2))\n",
    "sns.scatterplot(x=a[:,0], y=a[:,1])"
   ]
  },
  {
   "cell_type": "markdown",
   "metadata": {},
   "source": [
    "# Basic Intro to Pandas"
   ]
  },
  {
   "cell_type": "code",
   "execution_count": 9,
   "metadata": {},
   "outputs": [
    {
     "name": "stdout",
     "output_type": "stream",
     "text": [
      "Mon    42\n",
      "Tue    58\n",
      "Thu    82\n",
      "Fri    67\n",
      "Name: my_data, dtype: int32\n",
      "<class 'pandas.core.series.Series'>\n",
      "\n",
      "58\n",
      "42\n",
      "Mon    35\n",
      "Tue    70\n",
      "Fri    34\n",
      "Name: your_data, dtype: int32\n",
      "<class 'pandas.core.series.Series'>\n",
      "\n",
      "My_data + Your_data:\n",
      "Fri    101.0\n",
      "Mon     77.0\n",
      "Thu      NaN\n",
      "Tue    128.0\n",
      "dtype: float64\n"
     ]
    }
   ],
   "source": [
    "# Series contain an index\n",
    "import pandas as pd\n",
    "my_data = pd.Series(np.random.randint(100, size = (4)), \n",
    "                    index = (\"Mon\", \"Tue\", \"Thu\", \"Fri\"), \n",
    "                    name = 'my_data')\n",
    "print(my_data)\n",
    "print(type(my_data))\n",
    "print()\n",
    "\n",
    "# They work like a dict or an array\n",
    "print(my_data['Tue'])\n",
    "print(my_data[0])\n",
    "\n",
    "your_data = pd.Series(np.random.randint(100, size=(3)), \n",
    "                      index = (\"Mon\", \"Tue\", \"Fri\"),\n",
    "                      name = 'your_data')\n",
    "print(your_data)\n",
    "print(type(your_data))\n",
    "print()\n",
    "\n",
    "print(\"My_data + Your_data:\")\n",
    "print(my_data + your_data)"
   ]
  },
  {
   "cell_type": "code",
   "execution_count": 10,
   "metadata": {},
   "outputs": [
    {
     "name": "stdout",
     "output_type": "stream",
     "text": [
      "       Last    First Type  Year   GPA\n",
      "UID                                  \n",
      "111  Raymer     Mike  PhD     4  3.85\n",
      "222     Doe     Jane   MS     2  4.00\n",
      "323  Garcia  Enrique   BS     3  3.90\n",
      "121   Gupta     Anil   MS     4  3.70\n",
      "321   Smith    Steve   BS     3  3.30\n"
     ]
    }
   ],
   "source": [
    "# A dataframe is like a spreadsheet or a simple database\n",
    "students=pd.read_csv(\"students.csv\", index_col=0)\n",
    "print(students)"
   ]
  },
  {
   "cell_type": "code",
   "execution_count": 12,
   "metadata": {},
   "outputs": [
    {
     "name": "stdout",
     "output_type": "stream",
     "text": [
      "\n",
      "Index by column name\n",
      "UID\n",
      "111    Raymer\n",
      "222       Doe\n",
      "323    Garcia\n",
      "121     Gupta\n",
      "321     Smith\n",
      "Name: Last, dtype: object\n",
      "<class 'pandas.core.series.Series'>\n",
      "\n",
      "Another way to index by column name\n",
      "UID\n",
      "111    Raymer\n",
      "222       Doe\n",
      "323    Garcia\n",
      "121     Gupta\n",
      "321     Smith\n",
      "Name: Last, dtype: object\n",
      "<class 'pandas.core.series.Series'>\n",
      "\n",
      "Index by slice/row\n",
      "       Last First Type  Year   GPA\n",
      "UID                               \n",
      "111  Raymer  Mike  PhD     4  3.85\n",
      "<class 'pandas.core.frame.DataFrame'>\n",
      "\n",
      "Index by location/index\n",
      "Last      Doe\n",
      "First    Jane\n",
      "Type       MS\n",
      "Year        2\n",
      "GPA         4\n",
      "Name: 222, dtype: object\n",
      "<class 'pandas.core.series.Series'>\n",
      "\n",
      "Accessing one data item\n",
      "Doe\n",
      "\n",
      "Query like a database:\n",
      "       Last First Type  Year   GPA\n",
      "UID                               \n",
      "111  Raymer  Mike  PhD     4  3.85\n",
      "121   Gupta  Anil   MS     4  3.70\n",
      "UID\n",
      "111     True\n",
      "222    False\n",
      "323    False\n",
      "121     True\n",
      "321    False\n",
      "Name: Year, dtype: bool\n",
      "       Last  First Type  Year   GPA\n",
      "UID                                \n",
      "111  Raymer   Mike  PhD     4  3.85\n",
      "222     Doe   Jane   MS     2  4.00\n",
      "321   Smith  Steve   BS     3  3.30\n",
      "\n",
      "Add a column\n",
      "['Grad', 'Grad', 'Undergrad', 'Grad', 'Undergrad']\n",
      "       Last    First Type  Year   GPA      Level\n",
      "UID                                             \n",
      "111  Raymer     Mike  PhD     4  3.85       Grad\n",
      "222     Doe     Jane   MS     2  4.00       Grad\n",
      "323  Garcia  Enrique   BS     3  3.90  Undergrad\n",
      "121   Gupta     Anil   MS     4  3.70       Grad\n",
      "321   Smith    Steve   BS     3  3.30  Undergrad\n"
     ]
    }
   ],
   "source": [
    "print(\"\\nIndex by column name\")\n",
    "print(students['Last'])\n",
    "print(type(students['Last']))\n",
    "\n",
    "print(\"\\nAnother way to index by column name\")\n",
    "print(students.Last)\n",
    "print(type(students.Last))\n",
    "\n",
    "print(\"\\nIndex by slice/row\")\n",
    "print(students[0:1])\n",
    "print(type(students[0:1]))\n",
    "\n",
    "print(\"\\nIndex by location/index\")\n",
    "print(students.loc[222])\n",
    "print(type(students.loc[222]))\n",
    "\n",
    "print(\"\\nAccessing one data item\")\n",
    "print(students.loc[222]['Last'])\n",
    "\n",
    "print(\"\\nQuery like a database:\")\n",
    "print(students[students.Year == 4])\n",
    "print(students.Year == 4)\n",
    "print(students[[True, True, False, False, True]])\n",
    "\n",
    "print(\"\\nAdd a column\")\n",
    "print(['Grad' if t in ('MS', 'PhD') else 'Undergrad' for t in students.Type])\n",
    "students['Level'] = [('Grad' if t in ('MS', 'PhD') else 'Undergrad') for t in students.Type]\n",
    "print(students.head())"
   ]
  },
  {
   "cell_type": "code",
   "execution_count": 13,
   "metadata": {},
   "outputs": [
    {
     "name": "stdout",
     "output_type": "stream",
     "text": [
      "Distance_Feature    float64\n",
      "Speeding_Feature    float64\n",
      "dtype: object\n",
      "Dimensions: 2\n",
      "            Distance_Feature  Speeding_Feature\n",
      "Driver_ID                                     \n",
      "3423311935             71.24              28.0\n",
      "3423313212             52.53              25.0\n",
      "3423313724             64.54              27.0\n",
      "3423311373             55.69              22.0\n",
      "3423310999             54.58              25.0\n",
      "       Distance_Feature  Speeding_Feature\n",
      "count       4000.000000       4000.000000\n",
      "mean          76.041523         10.721000\n",
      "std           53.469563         13.708543\n",
      "min           15.520000          0.000000\n",
      "25%           45.247500          4.000000\n",
      "50%           53.330000          6.000000\n",
      "75%           65.632500          9.000000\n",
      "max          244.790000        100.000000\n"
     ]
    }
   ],
   "source": [
    "df = pd.read_csv('data_1024.csv', '\\t', index_col=0)\n",
    "print(df.dtypes)\n",
    "print(\"Dimensions: %d\" % (df.ndim))\n",
    "print(df.head())\n",
    "print(df.describe())\n"
   ]
  },
  {
   "cell_type": "code",
   "execution_count": 14,
   "metadata": {},
   "outputs": [
    {
     "data": {
      "text/plain": [
       "<matplotlib.axes._subplots.AxesSubplot at 0x27766040be0>"
      ]
     },
     "execution_count": 14,
     "metadata": {},
     "output_type": "execute_result"
    },
    {
     "data": {
      "image/png": "[encoded data removed]",
      "text/plain": [
       "<Figure size 432x288 with 1 Axes>"
      ]
     },
     "metadata": {
      "needs_background": "light"
     },
     "output_type": "display_data"
    }
   ],
   "source": [
    "sns.scatterplot(x=df['Distance_Feature'], y=df['Speeding_Feature'] )"
   ]
  },
  {
   "cell_type": "code",
   "execution_count": 15,
   "metadata": {},
   "outputs": [
    {
     "name": "stdout",
     "output_type": "stream",
     "text": [
      "sepal_length    float64\n",
      "sepal_width     float64\n",
      "petal_length    float64\n",
      "petal_width     float64\n",
      "species          object\n",
      "dtype: object\n",
      "   sepal_length  sepal_width  petal_length  petal_width species\n",
      "0           5.1          3.5           1.4          0.2  setosa\n",
      "1           4.9          3.0           1.4          0.2  setosa\n",
      "2           4.7          3.2           1.3          0.2  setosa\n",
      "3           4.6          3.1           1.5          0.2  setosa\n",
      "4           5.0          3.6           1.4          0.2  setosa\n",
      "       sepal_length  sepal_width  petal_length  petal_width\n",
      "count    150.000000   150.000000    150.000000   150.000000\n",
      "mean       5.843333     3.054000      3.758667     1.198667\n",
      "std        0.828066     0.433594      1.764420     0.763161\n",
      "min        4.300000     2.000000      1.000000     0.100000\n",
      "25%        5.100000     2.800000      1.600000     0.300000\n",
      "50%        5.800000     3.000000      4.350000     1.300000\n",
      "75%        6.400000     3.300000      5.100000     1.800000\n",
      "max        7.900000     4.400000      6.900000     2.500000\n",
      "['setosa' 'versicolor' 'virginica']\n"
     ]
    }
   ],
   "source": [
    "df = pd.read_csv('iris.csv')\n",
    "print(df.dtypes)\n",
    "print(df.head())\n",
    "print(df.describe())\n",
    "print(df.species.unique())\n"
   ]
  },
  {
   "cell_type": "code",
   "execution_count": 134,
   "metadata": {},
   "outputs": [
    {
     "data": {
      "text/plain": [
       "<matplotlib.axes._subplots.AxesSubplot at 0x7f7583036150>"
      ]
     },
     "execution_count": 134,
     "metadata": {},
     "output_type": "execute_result"
    },
    {
     "data": {
      "image/png": "[encoded data removed]",
      "text/plain": [
       "<Figure size 432x288 with 1 Axes>"
      ]
     },
     "metadata": {
      "needs_background": "light"
     },
     "output_type": "display_data"
    }
   ],
   "source": [
    "sns.scatterplot(x=df['sepal_length'], y=df['petal_length'] )"
   ]
  },
  {
   "cell_type": "code",
   "execution_count": 16,
   "metadata": {},
   "outputs": [
    {
     "data": {
      "text/plain": [
       "<seaborn.axisgrid.FacetGrid at 0x2776613e910>"
      ]
     },
     "execution_count": 16,
     "metadata": {},
     "output_type": "execute_result"
    },
    {
     "data": {
      "image/png": "[encoded data removed]",
      "text/plain": [
       "<Figure size 360x360 with 1 Axes>"
      ]
     },
     "metadata": {
      "needs_background": "light"
     },
     "output_type": "display_data"
    }
   ],
   "source": [
    "sns.lmplot(x='sepal_length', y='petal_length', data=df )"
   ]
  },
  {
   "cell_type": "code",
   "execution_count": 17,
   "metadata": {},
   "outputs": [
    {
     "data": {
      "text/plain": [
       "<seaborn.axisgrid.FacetGrid at 0x27766190a30>"
      ]
     },
     "execution_count": 17,
     "metadata": {},
     "output_type": "execute_result"
    },
    {
     "data": {
      "image/png": "[encoded data removed]",
      "text/plain": [
       "<Figure size 444.75x360 with 1 Axes>"
      ]
     },
     "metadata": {
      "needs_background": "light"
     },
     "output_type": "display_data"
    }
   ],
   "source": [
    "# Can't color by an \"object\" or \"string\"\n",
    "# Categorical means a fixed number of categories, represented by a number\n",
    "# internally\n",
    "df.species = pd.Categorical(df.species)\n",
    "sns.lmplot(x='sepal_length', y='petal_length', data=df, hue = 'species',  )"
   ]
  },
  {
   "cell_type": "code",
   "execution_count": null,
   "metadata": {},
   "outputs": [],
   "source": [
    "# Relationships among all variables\n",
    "sns."
   ]
  },
  {
   "cell_type": "code",
   "execution_count": 18,
   "metadata": {},
   "outputs": [
    {
     "data": {
      "text/plain": [
       "<matplotlib.axes._subplots.AxesSubplot at 0x27766233d60>"
      ]
     },
     "execution_count": 18,
     "metadata": {},
     "output_type": "execute_result"
    },
    {
     "data": {
      "image/png": "[encoded data removed]",
      "text/plain": [
       "<Figure size 432x288 with 1 Axes>"
      ]
     },
     "metadata": {
      "needs_background": "light"
     },
     "output_type": "display_data"
    }
   ],
   "source": [
    "sns.boxplot(data=df)"
   ]
  },
  {
   "cell_type": "code",
   "execution_count": 173,
   "metadata": {},
   "outputs": [
    {
     "data": {
      "text/plain": [
       "<matplotlib.axes._subplots.AxesSubplot at 0x7f7582b84d50>"
      ]
     },
     "execution_count": 173,
     "metadata": {},
     "output_type": "execute_result"
    },
    {
     "data": {
      "image/png": "[encoded data removed]",
      "text/plain": [
       "<Figure size 432x288 with 1 Axes>"
      ]
     },
     "metadata": {},
     "output_type": "display_data"
    }
   ],
   "source": [
    "# Violin plot\n",
    "sns.violinplot(x='species', y='petal_length', data=df)"
   ]
  },
  {
   "cell_type": "code",
   "execution_count": 19,
   "metadata": {},
   "outputs": [
    {
     "data": {
      "text/plain": [
       "<matplotlib.axes._subplots.AxesSubplot at 0x277662c3ca0>"
      ]
     },
     "execution_count": 19,
     "metadata": {},
     "output_type": "execute_result"
    },
    {
     "data": {
      "image/png": "[encoded data removed]",
      "text/plain": [
       "<Figure size 432x288 with 1 Axes>"
      ]
     },
     "metadata": {
      "needs_background": "light"
     },
     "output_type": "display_data"
    }
   ],
   "source": [
    "sns.swarmplot(x='species', y='petal_length', data=df)"
   ]
  },
  {
   "cell_type": "markdown",
   "metadata": {},
   "source": [
    "# Overlaying multiple plots"
   ]
  },
  {
   "cell_type": "code",
   "execution_count": 20,
   "metadata": {},
   "outputs": [
    {
     "data": {
      "text/plain": [
       "<matplotlib.axes._subplots.AxesSubplot at 0x27766314940>"
      ]
     },
     "execution_count": 20,
     "metadata": {},
     "output_type": "execute_result"
    },
    {
     "data": {
      "image/png": "[encoded data removed]",
      "text/plain": [
       "<Figure size 432x288 with 1 Axes>"
      ]
     },
     "metadata": {
      "needs_background": "light"
     },
     "output_type": "display_data"
    }
   ],
   "source": [
    "sns.distplot(df['petal_length'], color='green')\n",
    "sns.distplot(df['sepal_length'], color='red')"
   ]
  },
  {
   "cell_type": "code",
   "execution_count": null,
   "metadata": {},
   "outputs": [],
   "source": []
  },
  {
   "cell_type": "code",
   "execution_count": 181,
   "metadata": {},
   "outputs": [
    {
     "data": {
      "text/plain": [
       "<matplotlib.axes._subplots.AxesSubplot at 0x7f75827c5350>"
      ]
     },
     "execution_count": 181,
     "metadata": {},
     "output_type": "execute_result"
    },
    {
     "data": {
      "image/png": "[encoded data removed]",
      "text/plain": [
       "<Figure size 432x288 with 2 Axes>"
      ]
     },
     "metadata": {},
     "output_type": "display_data"
    }
   ],
   "source": [
    "# Calculate correlations\n",
    "corr = df.corr()\n",
    " \n",
    "# Heatmap\n",
    "sns.heatmap(corr, cmap='RdBu')\n"
   ]
  },
  {
   "cell_type": "markdown",
   "metadata": {},
   "source": [
    "# Documentation with docstrings\n",
    "A docstring is a simple string literal that is the first line of an object, method, module,\n",
    "etc.  It is stored in a special "
   ]
  },
  {
   "cell_type": "code",
   "execution_count": 29,
   "metadata": {},
   "outputs": [
    {
     "name": "stdout",
     "output_type": "stream",
     "text": [
      "<function somefunc at 0x000002776637AE50>\n",
      "somefunc.__doc__:\n",
      "Do something with foo and bar, and return foobar\n",
      "\n",
      "Help on function somefunc in module __main__:\n",
      "\n",
      "somefunc(foo, bar)\n",
      "    Do something with foo and bar, and return foobar\n",
      "\n",
      "somefunc.__doc__:\n",
      "\n",
      "    Returns the greatest common demoninator of foo and bar\n",
      "    \n",
      "    Parameters:\n",
      "        foo (int): One of the two values to determine the GCD of\n",
      "        bar (int): The other value\n",
      "        \n",
      "    Returns:\n",
      "        gcd (int): The greatest common denominator\n",
      "    \n",
      "\n",
      "Help on function somefunc in module __main__:\n",
      "\n",
      "somefunc(foo, bar)\n",
      "    Returns the greatest common demoninator of foo and bar\n",
      "    \n",
      "    Parameters:\n",
      "        foo (int): One of the two values to determine the GCD of\n",
      "        bar (int): The other value\n",
      "        \n",
      "    Returns:\n",
      "        gcd (int): The greatest common denominator\n",
      "\n",
      "9\n"
     ]
    }
   ],
   "source": [
    "# A one line docstring for a function\n",
    "def somefunc(foo, bar):\n",
    "    '''Do something with foo and bar, and return foobar'''\n",
    "    return foo * sqrt(bar)\n",
    "\n",
    "print(somefunc)\n",
    "print(\"somefunc.__doc__:\")\n",
    "print(somefunc.__doc__)\n",
    "print()\n",
    "help(somefunc)\n",
    "\n",
    "# a multiline docstring\n",
    "def somefunc(foo, bar):\n",
    "    '''\n",
    "    Returns the greatest common demoninator of foo and bar\n",
    "    \n",
    "    Parameters:\n",
    "        foo (int): One of the two values to determine the GCD of\n",
    "        bar (int): The other value\n",
    "        \n",
    "    Returns:\n",
    "        gcd (int): The greatest common denominator\n",
    "    '''\n",
    "    while(bar):\n",
    "        foo, bar = bar, foo % bar\n",
    "\n",
    "    return foo\n",
    "\n",
    "print(\"somefunc.__doc__:\")\n",
    "print(somefunc.__doc__)\n",
    "print()\n",
    "help(somefunc)\n",
    "print(somefunc(18, 27))"
   ]
  },
  {
   "cell_type": "code",
   "execution_count": 30,
   "metadata": {
    "scrolled": true
   },
   "outputs": [
    {
     "name": "stdout",
     "output_type": "stream",
     "text": [
      "Help on built-in module math:\n",
      "\n",
      "NAME\n",
      "    math\n",
      "\n",
      "DESCRIPTION\n",
      "    This module provides access to the mathematical functions\n",
      "    defined by the C standard.\n",
      "\n",
      "FUNCTIONS\n",
      "    acos(x, /)\n",
      "        Return the arc cosine (measured in radians) of x.\n",
      "    \n",
      "    acosh(x, /)\n",
      "        Return the inverse hyperbolic cosine of x.\n",
      "    \n",
      "    asin(x, /)\n",
      "        Return the arc sine (measured in radians) of x.\n",
      "    \n",
      "    asinh(x, /)\n",
      "        Return the inverse hyperbolic sine of x.\n",
      "    \n",
      "    atan(x, /)\n",
      "        Return the arc tangent (measured in radians) of x.\n",
      "    \n",
      "    atan2(y, x, /)\n",
      "        Return the arc tangent (measured in radians) of y/x.\n",
      "        \n",
      "        Unlike atan(y/x), the signs of both x and y are considered.\n",
      "    \n",
      "    atanh(x, /)\n",
      "        Return the inverse hyperbolic tangent of x.\n",
      "    \n",
      "    ceil(x, /)\n",
      "        Return the ceiling of x as an Integral.\n",
      "        \n",
      "        This is the smallest integer >= x.\n",
      "    \n",
      "    comb(n, k, /)\n",
      "        Number of ways to choose k items from n items without repetition and without order.\n",
      "        \n",
      "        Evaluates to n! / (k! * (n - k)!) when k <= n and evaluates\n",
      "        to zero when k > n.\n",
      "        \n",
      "        Also called the binomial coefficient because it is equivalent\n",
      "        to the coefficient of k-th term in polynomial expansion of the\n",
      "        expression (1 + x)**n.\n",
      "        \n",
      "        Raises TypeError if either of the arguments are not integers.\n",
      "        Raises ValueError if either of the arguments are negative.\n",
      "    \n",
      "    copysign(x, y, /)\n",
      "        Return a float with the magnitude (absolute value) of x but the sign of y.\n",
      "        \n",
      "        On platforms that support signed zeros, copysign(1.0, -0.0)\n",
      "        returns -1.0.\n",
      "    \n",
      "    cos(x, /)\n",
      "        Return the cosine of x (measured in radians).\n",
      "    \n",
      "    cosh(x, /)\n",
      "        Return the hyperbolic cosine of x.\n",
      "    \n",
      "    degrees(x, /)\n",
      "        Convert angle x from radians to degrees.\n",
      "    \n",
      "    dist(p, q, /)\n",
      "        Return the Euclidean distance between two points p and q.\n",
      "        \n",
      "        The points should be specified as sequences (or iterables) of\n",
      "        coordinates.  Both inputs must have the same dimension.\n",
      "        \n",
      "        Roughly equivalent to:\n",
      "            sqrt(sum((px - qx) ** 2.0 for px, qx in zip(p, q)))\n",
      "    \n",
      "    erf(x, /)\n",
      "        Error function at x.\n",
      "    \n",
      "    erfc(x, /)\n",
      "        Complementary error function at x.\n",
      "    \n",
      "    exp(x, /)\n",
      "        Return e raised to the power of x.\n",
      "    \n",
      "    expm1(x, /)\n",
      "        Return exp(x)-1.\n",
      "        \n",
      "        This function avoids the loss of precision involved in the direct evaluation of exp(x)-1 for small x.\n",
      "    \n",
      "    fabs(x, /)\n",
      "        Return the absolute value of the float x.\n",
      "    \n",
      "    factorial(x, /)\n",
      "        Find x!.\n",
      "        \n",
      "        Raise a ValueError if x is negative or non-integral.\n",
      "    \n",
      "    floor(x, /)\n",
      "        Return the floor of x as an Integral.\n",
      "        \n",
      "        This is the largest integer <= x.\n",
      "    \n",
      "    fmod(x, y, /)\n",
      "        Return fmod(x, y), according to platform C.\n",
      "        \n",
      "        x % y may differ.\n",
      "    \n",
      "    frexp(x, /)\n",
      "        Return the mantissa and exponent of x, as pair (m, e).\n",
      "        \n",
      "        m is a float and e is an int, such that x = m * 2.**e.\n",
      "        If x is 0, m and e are both 0.  Else 0.5 <= abs(m) < 1.0.\n",
      "    \n",
      "    fsum(seq, /)\n",
      "        Return an accurate floating point sum of values in the iterable seq.\n",
      "        \n",
      "        Assumes IEEE-754 floating point arithmetic.\n",
      "    \n",
      "    gamma(x, /)\n",
      "        Gamma function at x.\n",
      "    \n",
      "    gcd(x, y, /)\n",
      "        greatest common divisor of x and y\n",
      "    \n",
      "    hypot(...)\n",
      "        hypot(*coordinates) -> value\n",
      "        \n",
      "        Multidimensional Euclidean distance from the origin to a point.\n",
      "        \n",
      "        Roughly equivalent to:\n",
      "            sqrt(sum(x**2 for x in coordinates))\n",
      "        \n",
      "        For a two dimensional point (x, y), gives the hypotenuse\n",
      "        using the Pythagorean theorem:  sqrt(x*x + y*y).\n",
      "        \n",
      "        For example, the hypotenuse of a 3/4/5 right triangle is:\n",
      "        \n",
      "            >>> hypot(3.0, 4.0)\n",
      "            5.0\n",
      "    \n",
      "    isclose(a, b, *, rel_tol=1e-09, abs_tol=0.0)\n",
      "        Determine whether two floating point numbers are close in value.\n",
      "        \n",
      "          rel_tol\n",
      "            maximum difference for being considered \"close\", relative to the\n",
      "            magnitude of the input values\n",
      "          abs_tol\n",
      "            maximum difference for being considered \"close\", regardless of the\n",
      "            magnitude of the input values\n",
      "        \n",
      "        Return True if a is close in value to b, and False otherwise.\n",
      "        \n",
      "        For the values to be considered close, the difference between them\n",
      "        must be smaller than at least one of the tolerances.\n",
      "        \n",
      "        -inf, inf and NaN behave similarly to the IEEE 754 Standard.  That\n",
      "        is, NaN is not close to anything, even itself.  inf and -inf are\n",
      "        only close to themselves.\n",
      "    \n",
      "    isfinite(x, /)\n",
      "        Return True if x is neither an infinity nor a NaN, and False otherwise.\n",
      "    \n",
      "    isinf(x, /)\n",
      "        Return True if x is a positive or negative infinity, and False otherwise.\n",
      "    \n",
      "    isnan(x, /)\n",
      "        Return True if x is a NaN (not a number), and False otherwise.\n",
      "    \n",
      "    isqrt(n, /)\n",
      "        Return the integer part of the square root of the input.\n",
      "    \n",
      "    ldexp(x, i, /)\n",
      "        Return x * (2**i).\n",
      "        \n",
      "        This is essentially the inverse of frexp().\n",
      "    \n",
      "    lgamma(x, /)\n",
      "        Natural logarithm of absolute value of Gamma function at x.\n",
      "    \n",
      "    log(...)\n",
      "        log(x, [base=math.e])\n",
      "        Return the logarithm of x to the given base.\n",
      "        \n",
      "        If the base not specified, returns the natural logarithm (base e) of x.\n",
      "    \n",
      "    log10(x, /)\n",
      "        Return the base 10 logarithm of x.\n",
      "    \n",
      "    log1p(x, /)\n",
      "        Return the natural logarithm of 1+x (base e).\n",
      "        \n",
      "        The result is computed in a way which is accurate for x near zero.\n",
      "    \n",
      "    log2(x, /)\n",
      "        Return the base 2 logarithm of x.\n",
      "    \n",
      "    modf(x, /)\n",
      "        Return the fractional and integer parts of x.\n",
      "        \n",
      "        Both results carry the sign of x and are floats.\n",
      "    \n",
      "    perm(n, k=None, /)\n",
      "        Number of ways to choose k items from n items without repetition and with order.\n",
      "        \n",
      "        Evaluates to n! / (n - k)! when k <= n and evaluates\n",
      "        to zero when k > n.\n",
      "        \n",
      "        If k is not specified or is None, then k defaults to n\n",
      "        and the function returns n!.\n",
      "        \n",
      "        Raises TypeError if either of the arguments are not integers.\n",
      "        Raises ValueError if either of the arguments are negative.\n",
      "    \n",
      "    pow(x, y, /)\n",
      "        Return x**y (x to the power of y).\n",
      "    \n",
      "    prod(iterable, /, *, start=1)\n",
      "        Calculate the product of all the elements in the input iterable.\n",
      "        \n",
      "        The default start value for the product is 1.\n",
      "        \n",
      "        When the iterable is empty, return the start value.  This function is\n",
      "        intended specifically for use with numeric values and may reject\n",
      "        non-numeric types.\n",
      "    \n",
      "    radians(x, /)\n",
      "        Convert angle x from degrees to radians.\n",
      "    \n",
      "    remainder(x, y, /)\n",
      "        Difference between x and the closest integer multiple of y.\n",
      "        \n",
      "        Return x - n*y where n*y is the closest integer multiple of y.\n",
      "        In the case where x is exactly halfway between two multiples of\n",
      "        y, the nearest even value of n is used. The result is always exact.\n",
      "    \n",
      "    sin(x, /)\n",
      "        Return the sine of x (measured in radians).\n",
      "    \n",
      "    sinh(x, /)\n",
      "        Return the hyperbolic sine of x.\n",
      "    \n",
      "    sqrt(x, /)\n",
      "        Return the square root of x.\n",
      "    \n",
      "    tan(x, /)\n",
      "        Return the tangent of x (measured in radians).\n",
      "    \n",
      "    tanh(x, /)\n",
      "        Return the hyperbolic tangent of x.\n",
      "    \n",
      "    trunc(x, /)\n",
      "        Truncates the Real x to the nearest Integral toward 0.\n",
      "        \n",
      "        Uses the __trunc__ magic method.\n",
      "\n",
      "DATA\n",
      "    e = 2.718281828459045\n",
      "    inf = inf\n",
      "    nan = nan\n",
      "    pi = 3.141592653589793\n",
      "    tau = 6.283185307179586\n",
      "\n",
      "FILE\n",
      "    (built-in)\n",
      "\n",
      "\n"
     ]
    }
   ],
   "source": [
    "# Built-in docstrings\n",
    "import math\n",
    "help(math)"
   ]
  },
  {
   "cell_type": "markdown",
   "metadata": {},
   "source": [
    "# Concurrency in Python"
   ]
  },
  {
   "cell_type": "code",
   "execution_count": null,
   "metadata": {},
   "outputs": [],
   "source": []
  }
 ],
 "metadata": {
  "kernelspec": {
   "display_name": "Python 3",
   "language": "python",
   "name": "python3"
  },
  "language_info": {
   "codemirror_mode": {
    "name": "ipython",
    "version": 3
   },
   "file_extension": ".py",
   "mimetype": "text/x-python",
   "name": "python",
   "nbconvert_exporter": "python",
   "pygments_lexer": "ipython3",
   "version": "3.12.1"
  }
 },
 "nbformat": 4,
 "nbformat_minor": 4
}
