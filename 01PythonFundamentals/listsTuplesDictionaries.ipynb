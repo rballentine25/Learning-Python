{
 "cells": [
  {
   "cell_type": "markdown",
   "metadata": {},
   "source": [
    "# still need to do variable length argument lists"
   ]
  },
  {
   "cell_type": "markdown",
   "metadata": {},
   "source": [
    "## Lists\n",
    "* lists are mutable and defined by [item, item, item]\n",
    "* python is base 0 and uses brackets to reference an item index, ex list[3]\n",
    "* slicing: can use colons to modify selected list indicies."
   ]
  },
  {
   "cell_type": "code",
   "execution_count": 53,
   "metadata": {},
   "outputs": [],
   "source": [
    "list = [1, 2, 3, 4, 5]\n",
    "new1 = list[0:3] # gives [1, 2, 3, 4]\n",
    "new2 = list[2:] # gives [3, 4, 5]\n",
    "new3 = list[:3] # gives [1, 2, 3, 4]\n",
    "new3 = list[::2] # gives [2, 4] (every second element)"
   ]
  },
  {
   "cell_type": "markdown",
   "metadata": {},
   "source": [
    "changing list elements:\n",
    "* list.append(item) will add the specified item to the end of the list (like push)\n",
    "* list.insert(index, item) will add the item to the specified index in the list\n",
    "* list.remove(item) will remove the first occurance of the specified item from the list. if the specified item is not in the list, a runtime ValueError will occur\n",
    "* list.pop(index) will remove the list element from the specified index. if no index is specified, the last item in the list will be removed\n",
    "* to remove an element, syntax \"del listName[index]\" can also be used"
   ]
  },
  {
   "cell_type": "markdown",
   "metadata": {},
   "source": [
    "list operations:\n",
    "* len(list) gives the length of the list\n",
    "* checking membership: syntax \"element in listName\", will return Boolean"
   ]
  },
  {
   "cell_type": "markdown",
   "metadata": {},
   "source": [
    "list methods:\n",
    "* list.clear() removes all elements from the list\n",
    "* list.count(x) returns the number of times the specified element appears in the list\n",
    "* list.reverse() returns the list in reverse order\n",
    "* list.copy() creates a shallow copy of the list"
   ]
  },
  {
   "cell_type": "markdown",
   "metadata": {},
   "source": [
    "## tuples\n",
    "* tuples are sets of ordered, immutable objects\n",
    "* the objects in a tuple can include different types and duplicates\n",
    "* tuples are good for read-only, dictionary keys, fixed data collections\n",
    "\n",
    "differences from lists:\n",
    "* list elements can be changed after initialization (mutable), tuples cannot (immutable)\n",
    "* tuples are usually faster than lists since theyre immutable\n",
    "* tuples are defined with/without parentheses; lists use brackets\n",
    "\n",
    "specific tuple methods:\n",
    "* tuple.count(element) will return the number of occurences of the specified element within the tuple\n",
    "* tuple.index(element) will return the index the specified element is at in the tuple if it exists, otherwise will raise a ValueError\n",
    "\n",
    "other methods that work with tuples:\n",
    "* max(), min(), len(), sorted(), any(), all(), zip() \n"
   ]
  },
  {
   "cell_type": "code",
   "execution_count": 54,
   "metadata": {},
   "outputs": [
    {
     "name": "stdout",
     "output_type": "stream",
     "text": [
      "tuple 1: (1, 2, 3) \n",
      "tuple2: ('a', 'b', 'c')\n",
      "tuple with single element: (1,)\n"
     ]
    }
   ],
   "source": [
    "tup1 = (1, 2, 3)\n",
    "tup2 = 'a', 'b', 'c'\n",
    "\n",
    "print(\"tuple 1:\", tup1, \"\\ntuple2:\", tup2)\n",
    "\n",
    "# tuple with only one element: still need a comma\n",
    "sing_tup = (1,)\n",
    "print(\"tuple with single element:\", sing_tup)"
   ]
  },
  {
   "cell_type": "markdown",
   "metadata": {},
   "source": [
    "ways of accessing tuple elements:\n",
    "* indexing: tuple[0] will return the first element \n",
    "* slicing: tuple[0:2] will return first two elements (non inclusive to 2nd index)\n",
    "* negative indexing: tuple[-1] will return the last element, tuple[-2] the 2nd last, etc\n",
    "\n",
    "tuples can be concatenated into a new tuple\n",
    "can also be multipled to create repetitive new tuples"
   ]
  },
  {
   "cell_type": "code",
   "execution_count": 55,
   "metadata": {},
   "outputs": [
    {
     "name": "stdout",
     "output_type": "stream",
     "text": [
      "orange\n",
      "('orange', 'yellow')\n",
      "green\n",
      "('red', 'orange', 'yellow', 'green', 'one', 'two')\n",
      "('one', 'two', 'one', 'two')\n",
      "True\n",
      "False\n",
      "unpacked colors tuple: red orange yellow green\n"
     ]
    }
   ],
   "source": [
    "colors = ('red', 'orange','yellow','green')\n",
    "numbers = ('one','two')\n",
    "\n",
    "print(colors[1])    # prints orange\n",
    "print(colors[1:3])  # prints ('orange', 'yellow')\n",
    "print(colors[-1])   # prints green\n",
    "\n",
    "combine = colors + numbers\n",
    "print(combine)\n",
    "\n",
    "mult_repeat = numbers*2\n",
    "print(mult_repeat)\n",
    "\n",
    "# TESTING MEMEBERSHIP:\n",
    "truth1 = 'red' in colors\n",
    "print(truth1)\n",
    "print('purple' in colors)\n",
    "\n",
    "# UNPACKING \n",
    "(r, o, y, g) = colors\n",
    "print(\"unpacked colors tuple:\", r, o, y, g)"
   ]
  },
  {
   "cell_type": "markdown",
   "metadata": {},
   "source": [
    "uses for tuples:\n",
    "* tuples can be used to return multiple values from a function\n",
    "* can be used to group information for fixed-size structures\n",
    "* good for storing info when each element represents a field\n"
   ]
  },
  {
   "cell_type": "code",
   "execution_count": 56,
   "metadata": {},
   "outputs": [
    {
     "name": "stdout",
     "output_type": "stream",
     "text": [
      "new coordinates: (4, 6.5)\n"
     ]
    }
   ],
   "source": [
    "def newFunction(num1, num2):\n",
    "    num1 += 2\n",
    "    num2 += 3\n",
    "    coords = (num1, num2)\n",
    "    return coords\n",
    "\n",
    "print(\"new coordinates:\", newFunction(2,3.5))"
   ]
  },
  {
   "cell_type": "markdown",
   "metadata": {},
   "source": [
    "## basic program using tuples and lists\n",
    "keep a roster of people who are registered for a race. include name, age, gender, and race selection (5K, 10K, half, full). include functionality to add people to the roster, but once they are added do not allow their details to be changed. roster must be able to be printed. "
   ]
  },
  {
   "cell_type": "code",
   "execution_count": 57,
   "metadata": {},
   "outputs": [
    {
     "name": "stdout",
     "output_type": "stream",
     "text": [
      "No runners currently registered.\n",
      "Added Diane Foreman to the race roster.\n",
      "Current race roster:\n",
      "[10K ] Diane Foreman   (F, 32)\n",
      "\n",
      "Added Aaron Kraff to the race roster.\n",
      "Added Dave Warner to the race roster.\n",
      "Added Marnie York to the race roster.\n",
      "\n",
      "Current race roster:\n",
      "[10K ] Diane Foreman   (F, 32)\n",
      "[Full] Aaron Kraff     (M, 23)\n",
      "[5K  ] Dave Warner     (M, 52)\n",
      "[10K ] Marnie York     (F, 37)\n"
     ]
    }
   ],
   "source": [
    "# define roster as a list, so elements can be added/removed\n",
    "roster = []\n",
    "\n",
    "# function to add a person to the roster \n",
    "def addRunner(name, age, gender, race_choice):\n",
    "\n",
    "    # create tuples for each person so their details can't be changed later\n",
    "    runner = (name, age, gender, race_choice)\n",
    "    roster.append(runner)\n",
    "\n",
    "    print(f\"Added {runner[0]} to the race roster.\")\n",
    "\n",
    "# function to print roster\n",
    "def dispRoster():\n",
    "    # first check if the roster is empty: not will return True if there is \n",
    "    # nothing in the list (then print error msg), and True if there are elements in the list \n",
    "    if not roster:\n",
    "        print(\"No runners currently registered.\")\n",
    "    \n",
    "    else:\n",
    "        print(\"Current race roster:\")\n",
    "        for runner in roster:\n",
    "            print(f\"[{runner[3]:<4}] {runner[0]:<15} ({runner[2]}, {runner[1]})\")\n",
    "\n",
    "dispRoster()\n",
    "\n",
    "addRunner('Diane Foreman', 32, 'F', '10K')\n",
    "dispRoster()\n",
    "print()\n",
    "\n",
    "addRunner('Aaron Kraff', 23, 'M', 'Full')\n",
    "addRunner('Dave Warner', 52, 'M', '5K')\n",
    "addRunner('Marnie York', 37, 'F', '10K')\n",
    "print()\n",
    "\n",
    "dispRoster()"
   ]
  },
  {
   "cell_type": "markdown",
   "metadata": {},
   "source": [
    "## dictionaries\n",
    "more later (im tired)"
   ]
  }
 ],
 "metadata": {
  "kernelspec": {
   "display_name": "base",
   "language": "python",
   "name": "python3"
  },
  "language_info": {
   "codemirror_mode": {
    "name": "ipython",
    "version": 3
   },
   "file_extension": ".py",
   "mimetype": "text/x-python",
   "name": "python",
   "nbconvert_exporter": "python",
   "pygments_lexer": "ipython3",
   "version": "3.11.7"
  }
 },
 "nbformat": 4,
 "nbformat_minor": 2
}
