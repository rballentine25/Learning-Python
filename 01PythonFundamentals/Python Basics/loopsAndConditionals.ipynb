{
 "cells": [
  {
   "cell_type": "markdown",
   "metadata": {},
   "source": [
    "## conditionals "
   ]
  },
  {
   "cell_type": "raw",
   "metadata": {
    "vscode": {
     "languageId": "raw"
    }
   },
   "source": [
    "if condition1:\n",
    "    code block\n",
    "elif condition2:\n",
    "    code block\n",
    "else:\n",
    "    code block"
   ]
  },
  {
   "cell_type": "code",
   "execution_count": 19,
   "metadata": {},
   "outputs": [
    {
     "name": "stdout",
     "output_type": "stream",
     "text": [
      "x is < 5\n"
     ]
    }
   ],
   "source": [
    "x = 3\n",
    "\n",
    "if x > 5:\n",
    "    print(\"x is > 5\")\n",
    "elif x == 5:\n",
    "    print(\"x = 5\")\n",
    "else:\n",
    "    print(\"x is < 5\")"
   ]
  },
  {
   "cell_type": "markdown",
   "metadata": {},
   "source": [
    "## for loops"
   ]
  },
  {
   "cell_type": "raw",
   "metadata": {
    "vscode": {
     "languageId": "raw"
    }
   },
   "source": [
    "basic syntax:\n",
    "\n",
    "for variable in iterable:\n",
    "    # code block\n",
    "\n",
    "with range(): first line generates numbers \n",
    "range(4) generates 0 to 3\n",
    "range(1,4) generates 1 to 3\n",
    "range(0,10,2) generates 0 to 8, stepping by 2 (0,2,4,6,8) \n",
    "\n",
    "for i in range(#,#): \n",
    "    someFunction(i)\n"
   ]
  },
  {
   "cell_type": "code",
   "execution_count": 20,
   "metadata": {},
   "outputs": [
    {
     "name": "stdout",
     "output_type": "stream",
     "text": [
      "basic syntax:\n",
      "2\n",
      "3\n",
      "4\n",
      "5\n",
      "6\n",
      "range syntax:\n",
      "2\n",
      "3\n",
      "4\n",
      "5\n",
      "6\n",
      "7\n"
     ]
    }
   ],
   "source": [
    "numbers = [1, 2, 3, 4, 5]\n",
    "\n",
    "print(\"basic syntax:\")\n",
    "for x in numbers:\n",
    "    print(x + 1)\n",
    "# x is assigned as the variable for the list numbers \n",
    "\n",
    "print(\"range syntax:\")\n",
    "for i in range(0, 6):\n",
    "    print(i+2)"
   ]
  },
  {
   "cell_type": "markdown",
   "metadata": {},
   "source": [
    "## while loops"
   ]
  },
  {
   "cell_type": "code",
   "execution_count": 21,
   "metadata": {},
   "outputs": [
    {
     "name": "stdout",
     "output_type": "stream",
     "text": [
      "1\n",
      "2\n",
      "3\n"
     ]
    }
   ],
   "source": [
    "x = 1\n",
    "while x < 4:\n",
    "    print(x)\n",
    "    x += 1"
   ]
  },
  {
   "cell_type": "markdown",
   "metadata": {},
   "source": [
    "## pass, break, continue"
   ]
  },
  {
   "cell_type": "raw",
   "metadata": {
    "vscode": {
     "languageId": "raw"
    }
   },
   "source": [
    "pass keyword is a placeholder that defines a block of code that does nothing.\n",
    "can be used to hold places where you will eventually write code but haven't yet, \n",
    "and prevents errors from occuring there. \n",
    "\n",
    "can be used for placeholders for empty classes, defining an empty class, or skipping\n",
    "iterations in loops"
   ]
  },
  {
   "cell_type": "code",
   "execution_count": 22,
   "metadata": {},
   "outputs": [],
   "source": [
    "def unwrittenFunction():\n",
    "    pass\n",
    "\n",
    "\n",
    "class emptyClass:\n",
    "    pass"
   ]
  },
  {
   "cell_type": "raw",
   "metadata": {
    "vscode": {
     "languageId": "raw"
    }
   },
   "source": [
    "break keyword terminates a loop. typically used in conditional statements. \n",
    "\n",
    "continue keyword skips an iteration if a conditions is met and goes on to the next\n",
    "iteration (different from pass, which does nothing)"
   ]
  },
  {
   "cell_type": "code",
   "execution_count": 23,
   "metadata": {},
   "outputs": [
    {
     "name": "stdout",
     "output_type": "stream",
     "text": [
      "['bob', 'jill', 'james', 'george', 'barbara']\n",
      "print names until one with a g is found: \n",
      "bob\n",
      "jill\n",
      "james\n",
      "\n",
      "do not print names with the letter j:\n",
      "bob\n",
      "george\n",
      "barbara\n"
     ]
    }
   ],
   "source": [
    "names = ['bob', 'jill', 'james', 'george', 'barbara']\n",
    "print(names)\n",
    "\n",
    "print(\"print names until one with a g is found: \")\n",
    "for currName in names:\n",
    "    if 'g' in currName:\n",
    "        break\n",
    "    else:\n",
    "        print(currName)\n",
    "\n",
    "print(\"\\ndo not print names with the letter j:\")\n",
    "for currName in names:\n",
    "    if 'j' in currName:\n",
    "        continue\n",
    "    else:\n",
    "        print(currName)\n"
   ]
  }
 ],
 "metadata": {
  "kernelspec": {
   "display_name": "base",
   "language": "python",
   "name": "python3"
  },
  "language_info": {
   "codemirror_mode": {
    "name": "ipython",
    "version": 3
   },
   "file_extension": ".py",
   "mimetype": "text/x-python",
   "name": "python",
   "nbconvert_exporter": "python",
   "pygments_lexer": "ipython3",
   "version": "3.11.7"
  }
 },
 "nbformat": 4,
 "nbformat_minor": 2
}
