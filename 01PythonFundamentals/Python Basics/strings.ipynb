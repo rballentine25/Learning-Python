{
 "cells": [
  {
   "cell_type": "markdown",
   "metadata": {},
   "source": [
    "## print statement concatenation\n",
    "* print output statements can be concatenated with plus signs if ONLY strings\n",
    "* you do have to manually add spaces or statements will be smushed together\n",
    "* each + creates a new string in memory\n",
    "* can be used with non strings as long as the strings are converted within the statement using str()\n",
    "* result is a single string (can be used later if named to a variable)"
   ]
  },
  {
   "cell_type": "code",
   "execution_count": 16,
   "metadata": {},
   "outputs": [
    {
     "name": "stdout",
     "output_type": "stream",
     "text": [
      "I just got a new pet! it is a brown dog\n",
      "Beethoven is a brown dog\n"
     ]
    }
   ],
   "source": [
    "animal = 'dog'\n",
    "color = 'brown'\n",
    "print(\"I just got a new pet! it is a \" + color + \" \" + animal)\n",
    "\n",
    "string = \"Beethoven is a \" + color + \" \" + animal\n",
    "print(string)"
   ]
  },
  {
   "cell_type": "markdown",
   "metadata": {},
   "source": [
    "* if the statement includes multiple data types, plus signs cannot be used. commas must be used instead\n",
    "* spaces are automatically added in between statements\n",
    "* implicit conversion\n",
    "* does NOT result in a single string: useful for printing but cannot be referenced later"
   ]
  },
  {
   "cell_type": "code",
   "execution_count": 17,
   "metadata": {},
   "outputs": [
    {
     "name": "stdout",
     "output_type": "stream",
     "text": [
      "My new pet Cheddar is 2 years old and he is an orange cat\n"
     ]
    }
   ],
   "source": [
    "animal = 'cat'\n",
    "color = 'orange'\n",
    "age = 2\n",
    "print(\"My new pet Cheddar is\", age, \"years old and he is an\", color, animal)"
   ]
  },
  {
   "cell_type": "markdown",
   "metadata": {},
   "source": [
    "## formatting strings\n",
    "* more later"
   ]
  }
 ],
 "metadata": {
  "kernelspec": {
   "display_name": "base",
   "language": "python",
   "name": "python3"
  },
  "language_info": {
   "codemirror_mode": {
    "name": "ipython",
    "version": 3
   },
   "file_extension": ".py",
   "mimetype": "text/x-python",
   "name": "python",
   "nbconvert_exporter": "python",
   "pygments_lexer": "ipython3",
   "version": "3.11.7"
  }
 },
 "nbformat": 4,
 "nbformat_minor": 2
}
