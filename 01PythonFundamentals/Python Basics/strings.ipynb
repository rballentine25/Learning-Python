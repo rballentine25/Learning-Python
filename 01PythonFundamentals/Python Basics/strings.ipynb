{
 "cells": [
  {
   "cell_type": "markdown",
   "metadata": {},
   "source": [
    "## print statement concatenation\n",
    "* print output statements can be concatenated with plus signs if ONLY strings\n",
    "* you do have to manually add spaces or statements will be smushed together\n",
    "* each + creates a new string in memory\n",
    "* can be used with non strings as long as the strings are converted within the statement using str()\n",
    "* result is a single string (can be used later if named to a variable)"
   ]
  },
  {
   "cell_type": "code",
   "execution_count": 16,
   "metadata": {},
   "outputs": [
    {
     "name": "stdout",
     "output_type": "stream",
     "text": [
      "I just got a new pet! it is a brown dog\n",
      "Beethoven is a brown dog\n"
     ]
    }
   ],
   "source": [
    "animal = 'dog'\n",
    "color = 'brown'\n",
    "print(\"I just got a new pet! it is a \" + color + \" \" + animal)\n",
    "\n",
    "string = \"Beethoven is a \" + color + \" \" + animal\n",
    "print(string)"
   ]
  },
  {
   "cell_type": "markdown",
   "metadata": {},
   "source": [
    "* if the statement includes multiple data types, plus signs cannot be used. commas must be used instead\n",
    "* spaces are automatically added in between statements\n",
    "* implicit conversion\n",
    "* does NOT result in a single string: useful for printing but cannot be referenced later"
   ]
  },
  {
   "cell_type": "code",
   "execution_count": 17,
   "metadata": {},
   "outputs": [
    {
     "name": "stdout",
     "output_type": "stream",
     "text": [
      "My new pet Cheddar is 2 years old and he is an orange cat\n"
     ]
    }
   ],
   "source": [
    "animal = 'cat'\n",
    "color = 'orange'\n",
    "age = 2\n",
    "print(\"My new pet Cheddar is\", age, \"years old and he is an\", color, animal)"
   ]
  },
  {
   "cell_type": "markdown",
   "metadata": {},
   "source": [
    "## formatting strings\n",
    "* to use f-strings, put an f outside of the opening quotation marks \n",
    "* variables/expressions go inside curly braces\n",
    "* expressions can also be embedded within curly braces\n",
    "* attributes like person.name and functions can also be called\n",
    "* if the f-string uses triple quotations, line breaks can be used by putting the text on multple lines in the editor\n",
    "* to use curly braces in the output text, just double them"
   ]
  },
  {
   "cell_type": "code",
   "execution_count": 4,
   "metadata": {},
   "outputs": [
    {
     "name": "stdout",
     "output_type": "stream",
     "text": [
      "sally is a dog who is brown.\n",
      "\n",
      "this is a multi\n",
      "line message.\n"
     ]
    }
   ],
   "source": [
    "# a string can be more easily formatted with f-strings\n",
    "\n",
    "color = 'brown'\n",
    "animal = 'dog'\n",
    "string1 = f\"sally is a {animal} who is {color}.\"\n",
    "print(string1)\n",
    "\n",
    "long_string = f\"\"\"\n",
    "this is a multi\n",
    "line message.\"\"\"\n",
    "print(long_string)"
   ]
  },
  {
   "cell_type": "markdown",
   "metadata": {},
   "source": [
    "number formatting with f-strings\n",
    "\n",
    "DONT FORGET THE 2ND F AFTER THE PRECISION VALUE\n",
    "* syntax: {variable:width.precision f}\n",
    "width and precision can be passed as variables themselves, ex. {variable:{width}.{precision}}\n",
    "\n",
    "* type will be either d (integer) or f (floating point). precision is only needed when using floating point\n",
    "\n",
    "* width specifies spacing of the field, ex. putting 4 as the width will give a field that is 4 spaces wide. \n",
    "\n",
    "* alignment can be specified using arrows: {variable:<5} will give a field width of 5 spaces, and whatever text is in the field will be left aligned. > is right aligned, ^ is center aligned\n",
    "\n",
    "* pad characters can be specified with syntax {variable:[padchar][alignmentchar][width].[precision]f}, not including the square brackets\n",
    "\n",
    "* precision field is used to control the number of digits displayed for floating point numbers. the number after the decimal indicates the number of places after the decimal\n",
    "\n",
    "* precision characters: putting 'e' after the precision number will display in exponential format. putting 'g' after will allow python to choose either fixed-point or exponential format based on number of digits in given value\n",
    "\n",
    "* precision can also be applied to text variables, and will only display the number of characters indicated by the precision value"
   ]
  },
  {
   "cell_type": "code",
   "execution_count": 19,
   "metadata": {},
   "outputs": [
    {
     "name": "stdout",
     "output_type": "stream",
     "text": [
      "rounding using precision: 1234.57\n",
      "wide width with center alignment:    1234.568    .\n",
      "wide width with zero padding: 0001234.57\n",
      "thou comma seperator and rounding: $1,234.57\n",
      "exponential notation: 1.234568e+03\n",
      "general format: 1.23e+03\n"
     ]
    }
   ],
   "source": [
    "numValue = 1234.56789\n",
    "print(f\"rounding using precision: {numValue:.2f}\")\n",
    "print(f\"wide width with center alignment: {numValue:^15.3f}.\")\n",
    "print(f\"wide width with zero padding: {numValue:010.2f}\")\n",
    "print(f\"thou comma seperator and rounding: ${numValue:,.2f}\")\n",
    "print(f\"exponential notation: {numValue:e}\")\n",
    "print(f\"general format: {numValue:.3g}\")\n",
    "\n",
    "# can also convert/print to hexadecimal and binary by using x and b \n",
    "# instead of f at the end of curly brackets\n",
    "\n"
   ]
  }
 ],
 "metadata": {
  "kernelspec": {
   "display_name": "base",
   "language": "python",
   "name": "python3"
  },
  "language_info": {
   "codemirror_mode": {
    "name": "ipython",
    "version": 3
   },
   "file_extension": ".py",
   "mimetype": "text/x-python",
   "name": "python",
   "nbconvert_exporter": "python",
   "pygments_lexer": "ipython3",
   "version": "3.11.7"
  }
 },
 "nbformat": 4,
 "nbformat_minor": 2
}
