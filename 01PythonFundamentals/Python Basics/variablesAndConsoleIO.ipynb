{
 "cells": [
  {
   "cell_type": "markdown",
   "metadata": {},
   "source": [
    "## naming conventions\n",
    "* CamelCase for class names\n",
    "* function and variable names in snake_case\n",
    "* indentation defines groups of code, including loops and functions. there should be 4 spaces per indentation\n",
    "* no specific way for block comments: inline and block are both done with hashtags"
   ]
  },
  {
   "cell_type": "markdown",
   "metadata": {},
   "source": []
  },
  {
   "cell_type": "markdown",
   "metadata": {},
   "source": [
    "## variables \n",
    "* no default/defined variable types: python uses dynamic typing (type of variable is determined by value assigned at runtime)\n",
    "\n",
    "     -> ex. x = \"hello\" will be determined as string, and y = 5 will be determined as integer\n",
    "* 4 data types: integer, float (decimal), string, boolean\n",
    "* 2 scopes: local and global. global keyword can be used to define a global variable within a local function\n",
    "* int, float, str, tuple are immutable types\n",
    "* list and set are mutable\n",
    "* constants can be defined with uppercase variable names\n",
    "* to see the type of a variable: use function type(variableNam)\n",
    "* note on int casting: int() can be used to cast decimal numbers to whole numbers: will always round down by dropping the decimal (ie 3.01 and 3.99 will both be 3)"
   ]
  },
  {
   "cell_type": "markdown",
   "metadata": {},
   "source": [
    "## I/O: input\n",
    "* input() function asks for input from the user, which is ended with the return key\n",
    "* input() returns as a string, so data will need to be casted to use in calculations etc. \n",
    "* a input prompt can be put in the parentheses and will be printed before asking for input, but thats not happening in the code blocks below\n",
    "* data can be casted using functions int(), float(), str(), bool()\n",
    "## I/O: output\n",
    "* data can be outputted to the console by using print()\n",
    "* output can be concatenated using commas if multiple data types or plus signs if all strings"
   ]
  },
  {
   "cell_type": "code",
   "execution_count": 3,
   "metadata": {},
   "outputs": [],
   "source": [
    "# example of input\n",
    "name = 'Barbara'\n",
    "age = input(\"Please enter an age and press return: \")\n",
    "age = int(age)\n",
    "# can also be done in one line: age = int(input(\"Please enter your age: \"))\n",
    "# casting reminder: only do this if a) you know for sure what kind of data \n",
    "# will be entered, or b) you are including error handling \n",
    "\n",
    "# concatenated print statement with + since ALL STRINGS (does NOT work with multi data types)\n",
    "print(name + \" just had a birthday.\")\n",
    "\n",
    "# concatenated print statement with , since MIXED DATA TYPES\n",
    "print(\"she just turned \", age, \" years old!\")\n",
    "\n",
    "print(type(name))\n",
    "print(type(age))"
   ]
  }
 ],
 "metadata": {
  "kernelspec": {
   "display_name": "base",
   "language": "python",
   "name": "python3"
  },
  "language_info": {
   "codemirror_mode": {
    "name": "ipython",
    "version": 3
   },
   "file_extension": ".py",
   "mimetype": "text/x-python",
   "name": "python",
   "nbconvert_exporter": "python",
   "pygments_lexer": "ipython3",
   "version": "3.11.7"
  }
 },
 "nbformat": 4,
 "nbformat_minor": 2
}
