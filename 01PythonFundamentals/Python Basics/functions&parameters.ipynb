{
 "cells": [
  {
   "cell_type": "markdown",
   "metadata": {},
   "source": [
    "# functions and parameters"
   ]
  },
  {
   "cell_type": "markdown",
   "metadata": {},
   "source": [
    "## parameter passing: unnamed parameters\n",
    "with unnamed passing, parameters are matched positionally (in the order they are given). this is the only method of parameter passing in java\n"
   ]
  },
  {
   "cell_type": "code",
   "execution_count": 14,
   "metadata": {},
   "outputs": [
    {
     "name": "stdout",
     "output_type": "stream",
     "text": [
      "your rectangle has an area of 12\n"
     ]
    }
   ],
   "source": [
    "# unnamed parameter passing example\n",
    "import math\n",
    "\n",
    "def areaOfRect(width, height):\n",
    "    area = width*height\n",
    "    return area\n",
    "\n",
    "myWidth = 4\n",
    "myHeight = 3\n",
    "\n",
    "print(\"your rectangle has an area of\", areaOfRect(myWidth, myHeight))\n"
   ]
  },
  {
   "cell_type": "markdown",
   "metadata": {},
   "source": [
    "## parameter passing: named parameters\n",
    "* named parameters use keywords to specify which argument is which and can include default values. \n",
    "* without default values: method header is same as unnamed, but keywords are used when calling a function. keywords allow parameters to be passed \"out of order\". \n",
    "* keywords and positional passing can be combined, but after a keyword is used for the first time, all other following arguments must be passed with keywords. "
   ]
  },
  {
   "cell_type": "code",
   "execution_count": 15,
   "metadata": {},
   "outputs": [
    {
     "name": "stdout",
     "output_type": "stream",
     "text": [
      "Alice is 18 years old and makes $ 14.5 per hour.\n",
      "Brandon is 17 years old and makes $ 12.5 per hour.\n",
      "Tyler is 22 years old and makes $ 18.75 per hour.\n"
     ]
    }
   ],
   "source": [
    "def printInfo(name, age, wage):\n",
    "    print(name, \"is\", age, \"years old and makes $\", wage, \"per hour.\")\n",
    "\n",
    "# named parameter passing\n",
    "printInfo(name=\"Alice\", wage=14.5, age=18)\n",
    "\n",
    "# combined \n",
    "printInfo(\"Brandon\", age=17, wage=12.5)\n",
    "\n",
    "# positional\n",
    "printInfo(\"Tyler\", 22, 18.75)"
   ]
  },
  {
   "cell_type": "markdown",
   "metadata": {},
   "source": [
    "Default values\n",
    "* default values can be defined within the method header\n",
    "* when default values are defined, those parameters do not need to be passed when calling the function (if they are not passed, default values will be used). \n",
    "* if arguments are passed for the default parameters, the default values are overridden. this allows only certain values to be changed/updated when calling a function"
   ]
  },
  {
   "cell_type": "code",
   "execution_count": 29,
   "metadata": {},
   "outputs": [
    {
     "name": "stdout",
     "output_type": "stream",
     "text": [
      "original price: $ 100 \n",
      "discount: 0 % \n",
      "new price: $ 100.0\n",
      "\n",
      "\n",
      "original price: $ 100 \n",
      "discount: 25 % \n",
      "new price: $ 75.0\n"
     ]
    }
   ],
   "source": [
    "def calcPrice(price, discount=0):\n",
    "    # assuming discount is given as a percentage 0 to 100\n",
    "    \n",
    "    newPrice = price*(1-(discount/100))\n",
    "    print(\"original price: $\", price, \"\\ndiscount:\", discount, \"%\", \"\\nnew price: $\", newPrice)\n",
    "\n",
    "# using default\n",
    "calcPrice(100)\n",
    "\n",
    "print(\"\\n\")\n",
    "# overwriting default\n",
    "calcPrice(100, 25)"
   ]
  },
  {
   "cell_type": "markdown",
   "metadata": {},
   "source": [
    "## lambda functions\n",
    "* syntax is \"lambda arguments: expression\"\n"
   ]
  },
  {
   "cell_type": "code",
   "execution_count": 32,
   "metadata": {},
   "outputs": [
    {
     "name": "stdout",
     "output_type": "stream",
     "text": [
      "6\n",
      "9\n",
      "10\n"
     ]
    }
   ],
   "source": [
    "addTwo = lambda x: x + 2\n",
    "addTogether = lambda x, y: x + y\n",
    "\n",
    "print(addTwo(4))\n",
    "print(addTogether(5, 4))"
   ]
  }
 ],
 "metadata": {
  "kernelspec": {
   "display_name": "base",
   "language": "python",
   "name": "python3"
  },
  "language_info": {
   "codemirror_mode": {
    "name": "ipython",
    "version": 3
   },
   "file_extension": ".py",
   "mimetype": "text/x-python",
   "name": "python",
   "nbconvert_exporter": "python",
   "pygments_lexer": "ipython3",
   "version": "3.11.7"
  }
 },
 "nbformat": 4,
 "nbformat_minor": 2
}
