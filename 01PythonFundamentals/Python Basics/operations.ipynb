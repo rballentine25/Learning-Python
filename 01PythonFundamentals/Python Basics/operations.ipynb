{
 "cells": [
  {
   "cell_type": "markdown",
   "metadata": {},
   "source": [
    "## operations"
   ]
  },
  {
   "cell_type": "code",
   "execution_count": 9,
   "metadata": {},
   "outputs": [],
   "source": [
    "# arithmetic operations\n",
    "x = 4; y = 8\n",
    "addition = x + y\n",
    "subtraction = x - y\n",
    "\n",
    "multiplication = x * y\n",
    "division = x/y\n",
    "\n",
    "exponentiation = x ** y \n",
    "floorDivision = x // y      # returns a whole number\n",
    "remainder = x % y           # returns remainder of x divided by y"
   ]
  },
  {
   "cell_type": "code",
   "execution_count": 10,
   "metadata": {},
   "outputs": [],
   "source": [
    "# assignment operators \n",
    "x = 0\n",
    "\n",
    "x += 4      # x = x + 4\n",
    "x -= 4      # x = x - 4\n",
    "\n",
    "# etc, can do the same for *=, /=, and %="
   ]
  },
  {
   "cell_type": "markdown",
   "metadata": {},
   "source": [
    "comparision and logical operators\n",
    "* ==, !=, <, >, =>, =<\n",
    "* and: boolean returns True if both statements are true (ex. x>1 and y<4)\n",
    "* or: x>1 or y<4\n",
    "* not: returns reverse of result. not(x>1), not(x>1 and y<2)"
   ]
  },
  {
   "cell_type": "markdown",
   "metadata": {},
   "source": [
    "bitwise operations\n",
    "* bitwise AND (&): logical AND on each bit (by bit, returns 1 if BOTH are 1)\n",
    "\n",
    "    -> res = 5 & 3\n",
    "    0101 & 0011 = 0001 = 1\n",
    "* bitwise OR (|): logical OR on each bit (by bit, returns 1 if EITHER are 1)\n",
    "\n",
    "    -> res = 5 | 3\n",
    "    0101 | 0011 = 0111 = 7\n",
    "* XOR (^): by bit, returns 1 only if the bits are opposite (first is 1, second is 0)\n",
    "\n",
    "    -> res = 5 & 3\n",
    "    0101 ^ 0011 = 0110 = 6\n",
    "* NOT (~) inverts all bits\n",
    "* bitwise LEFT shift (<<) shifts all bits to left by specified amount\n",
    "\n",
    "    -> res = 5 << 2\n",
    "    0101 << 1 = 1010\n",
    "* bitwise RIGHT shift (>>) opposite of left shift\n",
    "\n",
    "can do all of the above with assignments as well (ex. x >>= 2 will do bitwise right shift on predefined x value and reassign new value to x)"
   ]
  },
  {
   "cell_type": "markdown",
   "metadata": {},
   "source": [
    "identity ops \n",
    "* is: True if both point to the same object. result = (x is y)\n",
    "* is not: True if both do NOT point to same object. result = (x is not y)"
   ]
  },
  {
   "cell_type": "code",
   "execution_count": 11,
   "metadata": {},
   "outputs": [
    {
     "name": "stdout",
     "output_type": "stream",
     "text": [
      "True\n",
      "False\n",
      "Fruit\n"
     ]
    }
   ],
   "source": [
    "# membership \n",
    "# in: returns True if a sequence contains a certain value\n",
    "res = (4 in [1, 2, 3, 4])\n",
    "print(res)\n",
    "\n",
    "# not in: opposite of \"in\"\n",
    "res2 = (4 not in [1, 2, 3, 4])\n",
    "print(res2)\n",
    "\n",
    "# ternary conditionals (if-else shorthand)\n",
    "is_fruit = True\n",
    "result = \"Fruit\" if is_fruit else \"Vegetable\"\n",
    "print(result)"
   ]
  }
 ],
 "metadata": {
  "kernelspec": {
   "display_name": "base",
   "language": "python",
   "name": "python3"
  },
  "language_info": {
   "codemirror_mode": {
    "name": "ipython",
    "version": 3
   },
   "file_extension": ".py",
   "mimetype": "text/x-python",
   "name": "python",
   "nbconvert_exporter": "python",
   "pygments_lexer": "ipython3",
   "version": "3.11.7"
  }
 },
 "nbformat": 4,
 "nbformat_minor": 2
}
